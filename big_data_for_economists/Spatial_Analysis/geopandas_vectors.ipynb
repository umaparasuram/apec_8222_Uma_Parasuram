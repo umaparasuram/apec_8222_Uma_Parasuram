{
    "cells": [
        {
            "cell_type": "markdown",
            "metadata": {},
            "source": [
                "# Geopandas and Vector Data\n",
                "\n",
                "-   We will be using Geopandas to work with our second type of data: vectors!\n",
                "    -   A typical spatial workflow will involve both vectors and what we talked about last class(es): Rasters."
            ]
        },
        {
            "cell_type": "code",
            "execution_count": null,
            "metadata": {},
            "outputs": [],
            "source": [
                "# Start with our basic imports\n",
                "\n",
                "import matplotlib.pyplot as plt\n",
                "import pandas as pd\n",
                "import os\n",
                "import numpy as np\n",
                "import geopandas as gpd\n",
                "from pathlib import Path"
            ]
        },
        {
            "cell_type": "markdown",
            "metadata": {},
            "source": [
                "### Setting up Geopandas and Data\n",
                "\n",
                "-   For this lecture, we're going to use great open-source content from our textbook.\n",
                "\n",
                "    -   This will even include getting data from the book site!\n",
                "    -   Below, you will see that we reference a file on the internet. No need to download!"
            ]
        },
        {
            "cell_type": "code",
            "execution_count": null,
            "metadata": {},
            "outputs": [],
            "source": [
                "# Set max rows displayed for readability\n",
                "pd.set_option(\"display.max_rows\", 6)\n",
                "# Plot settings\n",
                "plt.style.use(\n",
                "    \"https://github.com/aeturrell/coding-for-economists/raw/main/plot_style.txt\"\n",
                ")\n",
                "# For this chapter, some bespoke settings:\n",
                "plt.style.use(\n",
                "    {\n",
                "        \"axes.autolimit_mode\": \"data\",\n",
                "        \"patch.linewidth\": 0.2,\n",
                "        \"figure.figsize\": (10, 8),\n",
                "        \"figure.dpi\": 125,\n",
                "    }\n",
                ")"
            ]
        },
        {
            "cell_type": "markdown",
            "metadata": {},
            "source": [
                "### What is a Geopandas dataframe\n",
                "\n",
                "Quite literally, **GeoPandas** is a combination of geo and pandas so the good news is that everything you know about using **pandas** dataframes can be re-used here for geospatial data. The geo part adds functionality for geo-spatial data.\n",
                "\n",
                "### Loading a vector file\n",
                "\n",
                "-   First, we need some geo-spatial data to analyse.\n",
                "\n",
                "-   There are several different file formats for geo-spatial data, such as Shapefile (.shp), GeoJSON/JSON, KML, and GeoPackage.\n",
                "\n",
                "    -   Shapefiles used to be the standard way, but they were AWFUL.\n",
                "\n",
                "        -   Dated methods, slow, proprietary, ESRI.\n",
                "\n",
                "    -   The new standard (though not everyone has switched) is Geopackage (.gpkg) for most vector data applications.\n",
                "\n",
                "### You should have downloaded countries_iso3.gpkg\n",
                "\n",
                "![](images/paste-24.png)"
            ]
        },
        {
            "cell_type": "code",
            "execution_count": null,
            "metadata": {},
            "outputs": [],
            "source": [
                "# Set our paths like normal\n",
                "data_directory = '../../../../data'\n",
                "vector_data_directory = os.path.join(data_directory, 'vector_data')\n",
                "countries_vector_filename = 'countries_iso3.gpkg'\n",
                "countries_vector_path = os.path.join(vector_data_directory, countries_vector_filename)\n",
                "\n",
                "# Read the vector file off disk\n",
                "gdf = gpd.read_file(countries_vector_path)\n",
                "\n",
                "# Print the first three rows\n",
                "gdf.head(3)"
            ]
        },
        {
            "cell_type": "markdown",
            "metadata": {},
            "source": [
                "### What is a GeoDataFrame?\n",
                "\n",
                "-   The tabular data is identical to a regular Dataframe, but it has that Geometry column\n",
                "    -   Also a big difference is by being a GeoDataFrame, it has many other features, such as a CRS (coordinate reference system)\n",
                "    -   The gdf object also has vector-specific algorithms attached to it\n",
                "-   But first, let's look at it in QGIS\n",
                "\n",
                "### Viewing a vector file in QGIS\n",
                "\n",
                "-   Load `countries_iso3.gpkg` into QGIS\n",
                "\n",
                "![](images/paste-25.png)\n",
                "\n",
                "### Make it pretty with Symbology\n",
                "\n",
                "-   Double click the countries_iso3 layer in the Layers view\n",
                "\n",
                "    -   Then select the Symbology tab\n",
                "\n",
                "```{=html}\n",
                "<!-- -->\n",
                "```\n",
                "-   ![](images/paste-26.png)\n",
                "\n",
                "-   There are tons of options, but I suggest the OutLine Blue.\n",
                "\n",
                "-   ![](images/paste-27.png)\n",
                "\n",
                "-   Can zoom and such\n",
                "\n",
                "-   ![](images/paste-28.png)\n",
                "\n",
                "### Polygons are connected to each row in the attribute table\n",
                "\n",
                "-   Open the attribute table\n",
                "\n",
                "    -   Right click on countries_iso3 in the layers tab\n",
                "\n",
                "        -   Select Open Attribute Table\n",
                "\n",
                "        -   ![](images/paste-30.png)\n",
                "\n",
                "-   This should almost look like what we loaded in Python earlier!\n",
                "\n",
                "    -   But now it's \"missing\" the geometry column\n",
                "\n",
                "        -   It's not actually missing, it is just rendered spatially instead of being put in this table.\n",
                "\n",
                "    -   Each row in the Attribute Table corresponds to one \"Shape\" within the Geometry column\n",
                "\n",
                "        -   However, it will be a \"Multipolygon\" not a simple polygon because of non-contiguous shapes (e.g. islands)\n",
                "\n",
                "![](images/paste-29.png)\n",
                "\n",
                "### In-Class Exercise: Play around with Symbology\n",
                "\n",
                "-   Try out the different symbology schemes to add a unique color to each country based on the value stored in the ID column.\n",
                "\n",
                "    -   Hint, change the type of symbology (at the top) to categorized.\n",
                "\n",
                "-   ![](images/paste-33.png)\n",
                "\n",
                "-   ![](images/paste-34.png)\n",
                "\n",
                "-   Just like with Rasters, you could spend a whole semester doing GIS work on Vectors using the menus in QGIS\n",
                "\n",
                "    -   ![](images/paste-35.png)\n",
                "\n",
                "-   But we're aiming higher!\n",
                "\n",
                "    -   Let's do this all in Python\n",
                "\n",
                "### Plotting with Geopandas\n",
                "\n",
                "-   We've already loaded the gdf above, and we printed out the table\n",
                "\n",
                "    -   But what about visualizing it in a more useful way\n",
                "\n",
                "    -   Just like pandas, Geopandas has some built-in plotting functionality"
            ]
        },
        {
            "cell_type": "code",
            "execution_count": null,
            "metadata": {},
            "outputs": [],
            "source": [
                "# Use matplotlib via Geopandas to plot the vector\n",
                "gdf.plot(color=\"blue\")"
            ]
        },
        {
            "cell_type": "markdown",
            "metadata": {},
            "source": [
                "### Selecting subsets\n",
                "\n",
                "- Suppose you want to just plot the USA\n",
                "  - The magic of Geopandas is you can do it by selecting a subset, just like in Pandas"
            ]
        },
        {
            "cell_type": "code",
            "execution_count": null,
            "metadata": {},
            "outputs": [],
            "source": [
                "# Select the USA\n",
                "usa = gdf[gdf[\"iso3\"] == \"USA\"]\n",
                "usa.plot()"
            ]
        },
        {
            "cell_type": "markdown",
            "metadata": {},
            "source": [
                "### Spatial coordinate references\n",
                "\n",
                "- Just like with Rasters, these have a CRS:\n",
                "  - It is saved as an attribute on the GDF."
            ]
        },
        {
            "cell_type": "code",
            "execution_count": null,
            "metadata": {},
            "outputs": [],
            "source": [
                "# Print the CRS\n",
                "gdf.crs"
            ]
        },
        {
            "cell_type": "markdown",
            "metadata": {},
            "source": [
                "### Change the CRS\n",
                "\n",
                "- Let's create a more advanced plot that illustrates the different projections we might use"
            ]
        },
        {
            "cell_type": "code",
            "execution_count": null,
            "metadata": {},
            "outputs": [],
            "source": [
                "proj_names = [\"WGS 84\", \"Mercator\", \"Winkel Tripel\", \"Quartic Authalic\"]\n",
                "crs_names = [\"EPSG:4326\", \"EPSG:3395\", \"+proj=wintri\", \"+proj=qua_aut\"]\n",
                "\n",
                "fig, axes = plt.subplots(\n",
                "    nrows=2, ncols=2, figsize=(12, 6), dpi=150, sharex=False, sharey=False\n",
                ")\n",
                "for i, ax in enumerate(axes.flat):\n",
                "    gdf.to_crs(crs_names[i]).plot(ax=ax, color=\"#b2f3b2\", linewidth=0.1)\n",
                "    ax.set_title(proj_names[i])\n",
                "    ax.axis(\"off\")\n",
                "plt.tight_layout()\n",
                "plt.show()"
            ]
        },
        {
            "cell_type": "markdown",
            "metadata": {},
            "source": [
                "### Get the centroid\n",
                "\n",
                "- For better or worse, almost all of \"spatial economics\" ignores vector data\n",
                "  - Instead, if there is space involved, it uses the centroid of the polygon\n",
                "  - This will be used for, e.g., calculating distance between a village and a forest\n",
                "- We can get the centroids out of our GDF and plot them"
            ]
        },
        {
            "cell_type": "code",
            "execution_count": null,
            "metadata": {},
            "outputs": [],
            "source": [
                "gdf[\"centroid\"] = gdf.centroid\n",
                "\n",
                "fig, ax = plt.subplots()\n",
                "ax.axis(\"off\")\n",
                "gdf.boundary.plot(ax=ax, lw=0.2, color=\"k\")\n",
                "gdf[\"centroid\"].plot(ax=ax, color=\"red\", markersize=15)\n",
                "plt.show()"
            ]
        }
    ],
    "metadata": [
        {
            "kernelspec": {
                "display_name": "Python 3 (ipykernel)",
                "language": "python",
                "name": "python3"
            }
        }
    ],
    "nbformat": 4,
    "nbformat_minor": 4
}
