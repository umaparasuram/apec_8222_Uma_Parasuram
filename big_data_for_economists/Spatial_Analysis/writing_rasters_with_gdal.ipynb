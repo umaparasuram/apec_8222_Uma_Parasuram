{
    "cells": [
        {
            "cell_type": "markdown",
            "metadata": {},
            "source": [
                "Last lecture we read rasters via our own function. But suppose we want more than just a count of the values in the raster. What if we want to create a new raster and open it in, for instance, QGIS? Here we will talk about how to do this.\n",
                "\n",
                "\n",
                "We are going to use two data files from the Earthstat dataset. Eartstat is a wonderful source of spatial information relevant to applied economics.\n",
                "\n",
                "![image.png](attachment:image.png)\n",
                "\n",
                "I have already put the files listed below in our googlde drive, but the Earthstat site is here http://www.earthstat.org/ if you want to get your own.\n",
                "\n",
                "I want you to calculate the production per grid-cell of Maize, globally, at \"high\"-resolution.\n",
                "\n",
                "The two files you need are in your class data directory (obtained from google drive) named as follows.\n",
                "\n",
                "```         \n",
                "maize_HarvestedAreaHectares.tif\n",
                "maize_YieldPerHectare.tif\n",
                "```\n",
                "\n",
                "Let's start by defining our paths to the data."
            ]
        },
        {
            "cell_type": "code",
            "metadata": {},
            "source": [
                "# Import our required libraries\n",
                "import os\n",
                "import numpy as np\n",
                "from osgeo import gdal\n",
                "import matplotlib.pyplot as plt\n",
                "\n",
                "\n",
                "# Here again is the relative path to our data directory\n",
                "data_directory = '../../../../data' \n",
                "\n",
                "# Here are the two new filenames, which you should have downloaded\n",
                "# from google drive into your local data directory\n",
                "harvested_area_filename = 'maize_HarvestedAreaHectares.tif'\n",
                "yield_filename = 'maize_YieldPerHectare.tif'\n",
                "\n",
                "# Create the paths (by joining with your base data directory)\n",
                "harvested_area_file_path = os.path.join(data_directory, harvested_area_filename)\n",
                "yield_file_path = os.path.join(data_directory, yield_filename)\n",
                "\n",
                "# Check that they both exist\n",
                "print(os.path.exists(harvested_area_file_path))\n",
                "print(os.path.exists(yield_file_path))"
            ],
            "execution_count": null,
            "outputs": []
        },
        {
            "cell_type": "markdown",
            "metadata": {},
            "source": [
                "### Define again our function for opening rasters\n",
                "\n",
                "I've added a little detail that helps with debugging."
            ]
        },
        {
            "cell_type": "code",
            "metadata": {},
            "source": [
                "def load_array(input_raster_path):\n",
                "    \"\"\"Load a raster into a numpy array\"\"\"\n",
                "    if not os.path.exists(input_raster_path):\n",
                "        print('The file does not exist')\n",
                "        return None\n",
                "    \n",
                "    raster = gdal.Open(input_raster_path)\n",
                "    band = raster.GetRasterBand(1)\n",
                "    array = band.ReadAsArray()\n",
                "    return array "
            ],
            "execution_count": null,
            "outputs": []
        },
        {
            "cell_type": "markdown",
            "metadata": {},
            "source": [
                "### Use our function to load both of the raster paths"
            ]
        },
        {
            "cell_type": "code",
            "metadata": {},
            "source": [
                "harvested_area = load_array(harvested_area_file_path)\n",
                "yield_per_hectare = load_array(yield_file_path)"
            ],
            "execution_count": null,
            "outputs": []
        },
        {
            "cell_type": "code",
            "metadata": {},
            "source": [
                "# Multiply them\n",
                "production_array = harvested_area * yield_per_hectare\n",
                "\n",
                "# Plot the result using imshow\n",
                "fig = plt.figure(figsize=(6, 4))\n",
                "ax = fig.add_subplot()\n",
                "ax.set_title('Maize production (tons)')\n",
                "fig.set_dpi(300)\n",
                "im = ax.imshow(production_array)\n",
                "\n",
                "# Print out how many tons of maize are produced globally\n",
                "print('Total maize production globally is', np.nansum(production_array), 'tons')"
            ],
            "execution_count": null,
            "outputs": []
        },
        {
            "cell_type": "markdown",
            "metadata": {},
            "source": [
                "Did we get it right?\n",
                "\n",
                "![](images/paste-3.png)\n",
                "\n",
                "# Saving a raster to your harddrive\n",
                "\n",
                "Now that you've created an amazing raster of total maize production, you might want to save it to your harddrive. We will do this below. First, however, we will talk about geotransforms and projections.\n",
                "\n",
                "# Projections\n",
                "\n",
                "Projections are necessary to convert 3d, spherical data about the earth into 2d matrices. If we want an image like below, we need to project the data onto a 2d plane.\n",
                "\n",
                "![image.png](attachment:image.png)\n",
                "\n",
                "But there are many possible ways of doing that.\n",
                "\n",
                "![image-2.png](attachment:image-2.png)\n",
                "\n",
                "In Python, we summarize all of this complexity into a single object called a projection. A projection is a set of parameters that describe how to convert from 3d to 2d. Let's use GDAL to look at the projection of our data."
            ]
        },
        {
            "cell_type": "code",
            "metadata": {},
            "source": [
                "# The projection information is stored on the raster Dataset object, so we need to load that on its own\n",
                "harvested_area_dataset = gdal.Open(harvested_area_file_path)\n",
                "\n",
                "# Get the projection information\n",
                "projection = harvested_area_dataset.GetProjection()\n",
                "\n",
                "print(projection)"
            ],
            "execution_count": null,
            "outputs": []
        },
        {
            "cell_type": "markdown",
            "metadata": {},
            "source": [
                "Looking at the projection object above is overwhelming! But fortunately, this is not a GIS course, so we're not going to dive into this other than to appreciate the thousands of geographers who were sacrificed to bring us this information.\n",
                "\n",
                "Instead, we are just going to **use** that projection variable we just loaded.\n",
                "\n",
                "### Geotransforms\n",
                "\n",
                "The other object we need to know about is the geotransform. This says where on the projected coordinate system our raster is located. Let's use python to look at it."
            ]
        },
        {
            "cell_type": "code",
            "metadata": {},
            "source": [
                "# Load the geotransform\n",
                "geotransform = harvested_area_dataset.GetGeoTransform()\n",
                "print(geotransform)"
            ],
            "execution_count": null,
            "outputs": []
        },
        {
            "cell_type": "markdown",
            "metadata": {},
            "source": [
                "- You could probably interpret parts of this knowing that there are 180 degrees in half a circle, but let's do it the better way. Instead, a quick google finds the following: \n",
                "  \n",
                "A geotransform consists in a set of 6 coefficients:\n",
                "\n",
                "- GT(0) x-coordinate of the upper-left corner of the upper-left pixel.\n",
                "\n",
                "- GT(1) w-e pixel resolution / pixel width.\n",
                "\n",
                "- GT(2) row rotation (typically zero).\n",
                "\n",
                "- GT(3) y-coordinate of the upper-left corner of the upper-left pixel.\n",
                "\n",
                "- GT(4) column rotation (typically zero).\n",
                "\n",
                "- GT(5) n-s pixel resolution / pixel height (negative value for a north-up image).\n",
                "\n",
                "Thus we can see in our geotransform above that the upper left corner of our raster is at -180 degrees longitude and 90 degrees latitude. The resolution of our raster is 0.00833333 degrees in both directions. And our raster is oriented with north up (default 0). If we had looked at the geotransform of Rwanda, it would have pointed to a different location on the earth.\n",
                "\n",
                "Just like with the projection, we are going to use this to save our new raster. But before we do that, we need a little more information about the size of the raster and what the datatype is.\n",
                "\n",
                "Create a new file at that filename location using the attributes we used above. Notice that we flipped n_cols and n_rows from how numpy would have wanted it. Note that this is an **empty** raster. We haven't written anything to it yet, but we have defined the size and shape of it."
            ]
        },
        {
            "cell_type": "code",
            "metadata": {},
            "source": [
                "# Get the rows and the columns\n",
                "n_rows = harvested_area_dataset.RasterYSize\n",
                "n_cols = harvested_area_dataset.RasterXSize\n",
                "\n",
                "# The data_type, however, is stored on the band (not the dataset), so we need to load that separately\n",
                "band_number = 1\n",
                "harvested_area_band = harvested_area_dataset.GetRasterBand(band_number)\n",
                "data_type = harvested_area_band.DataType"
            ],
            "execution_count": null,
            "outputs": []
        },
        {
            "cell_type": "markdown",
            "metadata": {},
            "source": [
                "### Writing the array to a geotiff raster\n",
                "\n",
                "We are now ready to write our array using the information above. First we are going to create an empty raster at a new location on our harddrive."
            ]
        },
        {
            "cell_type": "code",
            "metadata": {},
            "source": [
                "# Set the location you want to save at\n",
                "output_file_path = os.path.join(data_directory, 'maize_production.tif')\n",
                "\n",
                "# Create a brand new dataset at that location on your harddrive using the information above\n",
                "output_dataset = gdal.GetDriverByName('GTiff').Create(output_file_path, n_cols, n_rows, band_number, data_type)"
            ],
            "execution_count": null,
            "outputs": []
        },
        {
            "cell_type": "markdown",
            "metadata": {},
            "source": [
                "- Note that this dataset is EMPTY! It is just point to the location. \n",
                "- But we can use the dataset object to do the write."
            ]
        },
        {
            "cell_type": "code",
            "metadata": {},
            "source": [
                "# First set the output geotransform and projection\n",
                "output_dataset.SetGeoTransform(geotransform)\n",
                "output_dataset.SetProjection(projection)\n",
                "\n",
                "# Then get a new band to write on\n",
                "output_band = output_dataset.GetRasterBand(band_number)"
            ],
            "execution_count": null,
            "outputs": []
        },
        {
            "cell_type": "markdown",
            "metadata": {},
            "source": [
                "Do the array writing"
            ]
        },
        {
            "cell_type": "code",
            "metadata": {},
            "source": [
                "output_band.WriteArray(production_array)"
            ],
            "execution_count": null,
            "outputs": []
        },
        {
            "cell_type": "markdown",
            "metadata": {},
            "source": [
                "Set any final band-level information"
            ]
        },
        {
            "cell_type": "code",
            "metadata": {},
            "source": [
                "# output_band.SetNoDataValue(no_data_value)"
            ],
            "execution_count": null,
            "outputs": []
        },
        {
            "cell_type": "markdown",
            "metadata": {},
            "source": [
                "Finally, and very importantly, clean up after yourself. It wont actually write until the resources in memory have been released."
            ]
        },
        {
            "cell_type": "code",
            "metadata": {},
            "source": [
                "production_array = None\n",
                "output_band = None\n",
                "output_dataset = None"
            ],
            "execution_count": null,
            "outputs": []
        },
        {
            "cell_type": "markdown",
            "metadata": {},
            "source": [
                "### Look at the new raster in QGIS\n",
                "\n",
                "If you're like me, you'll probably have forgotten where you saved it. Let's print the path we wrote to so we can find it in our file explorer."
            ]
        },
        {
            "cell_type": "code",
            "metadata": {},
            "source": [
                "print('HEY! YOU!!!! You wrote a raster HERE: ', output_file_path)"
            ],
            "execution_count": null,
            "outputs": []
        },
        {
            "cell_type": "markdown",
            "metadata": {},
            "source": [
                "Or if you're really lazy like me, print out the absolute path of the directory so we can copy-paste it into our file explorer so I can drag-drop into QGIS."
            ]
        },
        {
            "cell_type": "code",
            "metadata": {},
            "source": [
                "# Get the directory of the output_file_path\n",
                "output_directory = os.path.dirname(output_file_path)\n",
                "\n",
                "print('COPY THIS: ', os.path.abspath(output_directory))"
            ],
            "execution_count": null,
            "outputs": []
        },
        {
            "cell_type": "markdown",
            "metadata": {},
            "source": [
                "We did it!\n",
                "\n",
                "![image.png](attachment:image.png)\n",
                "\n",
                "# Real-world example: calculating the potential yield of maize on land that is currently forests in Rwanda\n",
                "\n",
                "Now that we know how to open, manipulate, and save rasters, we can do some real-world analysis. We're going to calculate the potential yield of maize on land that is currently forests in Rwanda. This might be relevant to, for instance, a regression you would do on household data and whether individuals are likely to cut down their forests to plant maize. Or maybe it would be relevant to your regression on GDP per country if you wanted to know the expected GDP resulting from an increase in agricultural land.\n",
                "\n",
                "- But let's look at these two files in QGIS. The easiest way to load them into QGIS, in my opinion, is to drag the raster file from your file explorer onto QGIS.\n",
                "\n",
                "- What we see is not super pretty because we need to modify the colorbar.\n",
                "\n",
                "![](images/paste-4.png)\n",
                "\n",
                "## Double-click the layer you added to bring up its properties. Then select the Symbology tab on the left.\n",
                "\n",
                "![](images/paste-8.png)\n",
                "\n",
                "## Choose a colorbar you like. Ensure the min-max values are set.\n",
                "\n",
                "![](images/paste-9.png)\n",
                "\n",
                "## This looks a little better\n",
                "\n",
                "![](images/paste-10.png)\n",
                "\n",
                "## Now add the Rwanda LULC map you loaded earlier\n",
                "\n",
                "-   It will now show up in the Layers menu\n",
                "\n",
                "    -   Note that only the topmost checked layer will be displayed on top, covering other things.\n",
                "\n",
                "    -   Scroll to Rwanda\n",
                "\n",
                "![](images/paste-12.png)\n",
                "\n",
                "## We have several visualization problems\n",
                "\n",
                "-   First, there are very low maize yields in the area, and so they're almost the lightest color.\n",
                "\n",
                "    -   Adjust the maximium of the colorbar to \\~1000 so you can see the variation\n",
                "\n",
                "-   Second, these two rasters are at very different resolutions!\n",
                "\n",
                "![](images/paste-14.png)\n",
                "\n",
                "Any raster-math we do on them will either fail or (worse) succeed at producing nonsense. This is because the underlying numpy arrays are not representing the same part of earth at the same resolution. We will need to do two things first: **clip** and **reproject** one of the layers to match the other.\n",
                "\n",
                "## Clip\n",
                "\n",
                "-   In QGIS, Find the command Clip Raster by Extent.\n",
                "\n",
                "![](images/paste-16.png)\n",
                "\n",
                "-   This will bring up a Window to launch the tool.\n",
                "\n",
                "-   Set the Input layer as the Maize layer (this is the one we will clip to be smaller)\n",
                "\n",
                "-   Set the Clipping Extent to match the Rwanda LULC map.\n",
                "\n",
                "![](images/paste-17.png)\n",
                "\n",
                "## The Clipped map doesn't cover all of the LULC!\n",
                "\n",
                "-   If you thought data cleaning was hard on tabular data...\n",
                "\n",
                "![](images/paste-21.png)\n",
                "\n",
                "-   There are tons of ways to fix this in QGIS, but we're actually going to go back to Python to harness the power of a fun new library: Pygeoprocessing.\n",
                "\n",
                "## Reprojection\n",
                "\n",
                "-   No matter what way we solve the clipping issue, we also will have to reproject our data to have the same size grid-cells. \n",
                "    -   This is necessary to do raster math.\n",
                "\n",
                "![](images/paste-15.png)\n",
                "\n",
                "- This brings up the Warp (Reproject) window. This will work, but I want to teach you a better way.\n",
                "\n",
                "![image.png](attachment:image.png)\n",
                "\n",
                "## Pygeoprocessing\n",
                "\n",
                "-   Pygeoprocessing is a python library that is built on top of GDAL. It is a little more user-friendly and has some nice features.\n",
                "-   We are going to use the align_and_resize_raster_stack() function.\n",
                "    -   But, how do we know what to input into this function?\n",
                "        -   Let's inspect it.\n",
                "        -   Put your cursor on `align_and_resize_raster_stack` in the code block below and press F-12. Your computer might not access the Function keys automatically (instead overwriting it with some media player nonsense or the like), so you might have to find the Fn button to hold at the same time (this is switchable).\n",
                "    -   Alternatively, you can right-click on the function and select \"Go to Definition\"."
            ]
        },
        {
            "cell_type": "code",
            "metadata": {},
            "source": [
                "import pygeoprocessing \n",
                "\n",
                "pygeoprocessing.align_and_resize_raster_stack"
            ],
            "execution_count": null,
            "outputs": []
        },
        {
            "cell_type": "markdown",
            "metadata": {},
            "source": [
                "This will bring you straight to the function that you installed via Mamba! It will have extensive documentation.\n",
                "\n",
                "![](images/paste-22.png)"
            ]
        },
        {
            "cell_type": "code",
            "metadata": {},
            "source": [
                "# Redefine these, just to be safe\n",
                "lulc_filename = 'rwanda_lulc_2015.tif'\n",
                "yield_file_path = os.path.join(data_directory, yield_filename)\n",
                "lulc_file_path = os.path.join(data_directory, lulc_filename)\n",
                "\n",
                "# Define some new paths to store the aligned and clipped files\n",
                "yield_aligned_file_path = os.path.join(data_directory, 'yield_aligned.tif')\n",
                "lulc_aligned_file_path = os.path.join(data_directory, 'lulc_aligned.tif')\n",
                "\n",
                "print('We are going to save files at ', os.path.abspath(yield_aligned_file_path), ' and ', os.path.abspath(lulc_aligned_file_path))"
            ],
            "execution_count": null,
            "outputs": []
        },
        {
            "cell_type": "markdown",
            "metadata": {},
            "source": [
                "### Pygeoprocessing works on lists of many rasters\n",
                "\n",
                "- Below we will create lists 2-elements long, but this could be arbitrarily longer."
            ]
        },
        {
            "cell_type": "code",
            "metadata": {},
            "source": [
                "# Configure the paths into lists (this helps the function generalize to MANY files)\n",
                "base_raster_path_list = [yield_file_path, lulc_file_path]\n",
                "target_raster_path_list = [yield_aligned_file_path, lulc_aligned_file_path]\n",
                "\n",
                "# Create a list as long as the above with the resampling for each respective layer. There's Much more to discuss here\n",
                "# but for now we'll just use bilinear\n",
                "resample_method_list = ['bilinear', 'bilinear']"
            ],
            "execution_count": null,
            "outputs": []
        },
        {
            "cell_type": "markdown",
            "metadata": {},
            "source": [
                "### Decide what \"spatial set\" operation you want to use\n",
                "\n",
                "-   We are going to use the \"intersection\" operation. This will ensure that the output raster is only the part of the raster that is in the intersection of the two input rasters.\n",
                "\n",
                "![image.png](attachment:image.png)"
            ]
        },
        {
            "cell_type": "code",
            "metadata": {},
            "source": [
                "# Next decide which area all the layers will be clipped to. Intersection means it will just be the ones that overlap.\n",
                "bounding_box_mode = 'intersection'"
            ],
            "execution_count": null,
            "outputs": []
        },
        {
            "cell_type": "markdown",
            "metadata": {},
            "source": [
                "### Choose which input you want everything aligned to\n",
                "\n",
                "- We are going to align everything to the Rwanda LULC map\n",
                "- We are also going to use this to define the pixelsize."
            ]
        },
        {
            "cell_type": "code",
            "metadata": {},
            "source": [
                "# Decide which of the base_rasters should define the resolution and projection \n",
                "# of the output data. For us, we want it to be the resolution of the LULC map, which is \n",
                "# in the second position of the list (index 1)\n",
                "raster_align_index = 1\n",
                "\n",
                "# Get the pixelsize at this_path. Notice that I'm always REUSING information defined above rather\n",
                "# than rewriting it.\n",
                "target_pixel_size = pygeoprocessing.get_raster_info(base_raster_path_list[raster_align_index])['pixel_size']"
            ],
            "execution_count": null,
            "outputs": []
        },
        {
            "cell_type": "markdown",
            "metadata": {},
            "source": [
                "### We're finally ready to run our function"
            ]
        },
        {
            "cell_type": "code",
            "metadata": {},
            "source": [
                "pygeoprocessing.align_and_resize_raster_stack(base_raster_path_list, \n",
                "                                              target_raster_path_list, \n",
                "                                              resample_method_list,\n",
                "                                              target_pixel_size, \n",
                "                                              bounding_box_mode, \n",
                "                                              raster_align_index=raster_align_index)"
            ],
            "execution_count": null,
            "outputs": []
        },
        {
            "cell_type": "markdown",
            "metadata": {},
            "source": [
                "## When this first worked for me, I almost cried\n",
                "\n",
                "Seriously. \n",
                "\n",
                "We'll learn more about this package soon.\n",
                "\n",
                "The key element now is that each of the aligned files has exactly the same resolution and extent, which lets us do raster math on them super easily because for any for any range of row-columns, the values are representing the same place on earth.\n",
                "\n",
                "But for now, let's load them up in QGIS.\n",
                "\n",
                "![image.png](attachment:image.png)\n",
                "\n",
                "### View them in QGIS\n",
                "\n",
                "![image-2.png](attachment:image-2.png)\n"
            ]
        }
    ],
    "metadata": [
        {
            "kernelspec": {
                "name": "python3",
                "language": "python",
                "display_name": "Python 3 (ipykernel)"
            }
        }
    ],
    "nbformat": 4,
    "nbformat_minor": 4
}