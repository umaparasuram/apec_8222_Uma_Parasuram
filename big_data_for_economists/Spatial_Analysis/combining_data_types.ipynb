{
    "cells": [
        {
            "cell_type": "markdown",
            "metadata": {},
            "source": [
                "# Combining Different Types of BIG Data\n",
                "\n",
                "-   Merging Vectors and Raster data\n",
                "-   Merging Vectors and Tabular, but huge, data\n",
                "-   Putting it all together"
            ]
        },
        {
            "cell_type": "code",
            "execution_count": null,
            "metadata": {},
            "outputs": [],
            "source": [
                "# Start with our basic imports\n",
                "\n",
                "import matplotlib.pyplot as plt\n",
                "import pandas as pd\n",
                "import os\n",
                "import numpy as np\n",
                "import geopandas as gpd"
            ]
        },
        {
            "cell_type": "markdown",
            "metadata": {},
            "source": [
                "### Joins\n",
                "\n",
                "-   We briefly touched on this last lecture, where we joined two Dataframes by a common column.\n",
                "    -   A different type of join becomes relevant with spatial vector data\n",
                "        -   The Spatial Join or `sjoin`"
            ]
        },
        {
            "cell_type": "code",
            "execution_count": null,
            "metadata": {},
            "outputs": [],
            "source": [
                "# Grab a world map that has extra data in\n",
                "world = gpd.read_file(gpd.datasets.get_path(\"naturalearth_lowres\"))\n",
                "\n",
                "# Take a look at it\n",
                "world.head()"
            ]
        },
        {
            "cell_type": "markdown",
            "metadata": {},
            "source": [
                "### But I want to KEEP this data\n",
                "\n",
                "-   The built in data downloading is great, but we're trying to equip you for later work that might USE this information\n",
                "    -   Currently the data is in memory, but we want to save it to a file"
            ]
        },
        {
            "cell_type": "code",
            "execution_count": null,
            "metadata": {},
            "outputs": [],
            "source": [
                "# Define a path to save the output\n",
                "base_data_dir = '../../../../data'\n",
                "world_filename = 'world.gpkg'\n",
                "world_path = os.path.join(base_data_dir, world_filename)\n",
                "\n",
                "# Save the GDF as a GPKG\n",
                "world.to_file(world_path, driver='GPKG')"
            ]
        },
        {
            "cell_type": "markdown",
            "metadata": {},
            "source": [
                "### ![](images/paste-39.png)\n",
                "\n",
                "### Also get the cities of the world"
            ]
        },
        {
            "cell_type": "code",
            "execution_count": null,
            "metadata": {},
            "outputs": [],
            "source": [
                "# Grab data on cities\n",
                "cities = gpd.read_file(gpd.datasets.get_path(\"naturalearth_cities\"))\n",
                "# Force cities and world to share the world CRS:\n",
                "cities = cities.to_crs(world.crs)\n",
                "cities.head()"
            ]
        },
        {
            "cell_type": "code",
            "execution_count": null,
            "metadata": {},
            "outputs": [],
            "source": [
                "cities_filename = 'cities.gpkg'\n",
                "cities_path = os.path.join(base_data_dir, cities_filename)\n",
                "\n",
                "# Save the GDF as a GPKG\n",
                "cities.to_file(cities_path, driver='GPKG')"
            ]
        },
        {
            "cell_type": "markdown",
            "metadata": {},
            "source": [
                "![](images/paste-40.png)\n",
                "\n",
                "### Example regression\n",
                "\n",
                "-   Suppose you want to do a regression that involves city-level observations\n",
                "    -   Possible example: \"Is crime lower in high income countries?\"\n",
                "        -   Hilariously simple, and we've already got the data\n",
                "\n",
                "### Problem! The cities data doesn't have country GDP\n",
                "\n",
                "-   If the cities data had a column for \"Country ISO3\" of something similar, this wouldn't be a problem\n",
                "    -   We could merge them like we discussed previously (or even just in R)\n",
                "    -   But there is no column we can merge on\n",
                "-   However, their spatial information can be used to create this relationship\n",
                "    -   We will do this via spatial merge"
            ]
        },
        {
            "cell_type": "code",
            "execution_count": null,
            "metadata": {},
            "outputs": [],
            "source": [
                "cities_and_countries = gpd.sjoin(cities, world, how=\"inner\", op=\"intersects\")\n",
                "cities_and_countries.head()"
            ]
        },
        {
            "cell_type": "code",
            "execution_count": null,
            "metadata": {},
            "outputs": [],
            "source": [
                "cities_and_countries_filename = 'cities_and_countries.gpkg'\n",
                "cities_and_countries_path = os.path.join(base_data_dir, cities_and_countries_filename)\n",
                "\n",
                "# Save it as a GPKG\n",
                "cities_and_countries.to_file(cities_and_countries_path, driver='GPKG')"
            ]
        },
        {
            "cell_type": "markdown",
            "metadata": {},
            "source": [
                "### What did we just do?\n",
                "\n",
                "-   Let's look at it in QGIS\n",
                "\n",
                "    -   Adding all three we see what we probably expected.\n",
                "\n",
                "-   <div>\n",
                "\n",
                "    ![](images/paste-36.png)\n",
                "\n",
                "    </div>\n",
                "\n",
                "-   If you Untoggle the `cities` and `world` layers though, you might be surprised\n",
                "\n",
                "-   <div>\n",
                "\n",
                "    ![](images/paste-37.png)\n",
                "\n",
                "    </div>\n",
                "\n",
                "    -   Where did the polygons go?\n",
                "        -   Check out the attributes table (right click on layer name)\n",
                "\n",
                "-   ![](images/paste-38.png)\n",
                "\n",
                "-   Our table now has the information that was previously just in the `world.gpkg` file!\n",
                "\n",
                "    -   Out-of-class exercise: Save a GPKG that contains only the cities that are in countries with GDP per capita above 15,000\n",
                "\n",
                "## Zonal Statistics\n",
                "\n",
                "-   Often we want to combine raster and vector data\n",
                "\n",
                "    -   Spatial Join only works for joining polygons to polygons\n",
                "\n",
                "        -   What can we do?\n",
                "\n",
                "-   Our task is to sum up how much Maize production is present in each country of the world\n",
                "\n",
                "    -   This is similar to our problem set, but that only asked for a global sum\n",
                "\n",
                "        -   Which is easy because you can just sum the whole raster\n",
                "\n",
                "    -   How would you do this sum so that it reports the total PER COUNTRY?\n",
                "\n",
                "-   Look at our relevant data in QGIS\n",
                "\n",
                "    -   ![](images/paste-41.png)\n",
                "\n",
                "-   As always, we could use a traditional GIS approach to do this, pictured below\n",
                "\n",
                "    -   But this can be extremely slow and fail on big data\n",
                "\n",
                "    -   ![](images/paste-42.png)\n",
                "\n",
                "### Using Pygeoprocessing Zonal Stats"
            ]
        },
        {
            "cell_type": "code",
            "execution_count": null,
            "metadata": {},
            "outputs": [],
            "source": [
                "import pygeoprocessing as pgp\n",
                "\n",
                "# Inspect the documentation for the function by navigating to the zonal statistics function\n",
                "# right click, and select \"Go to definition\"\n",
                "pgp.zonal_statistics"
            ]
        },
        {
            "cell_type": "markdown",
            "metadata": {},
            "source": [
                "![](images/paste-43.png)\n",
                "\n",
                "### Enter in the required arguments\n",
                "\n",
                "-   The path-band might be confusing, but reading it closely, we see:\n",
                "\n",
                "    -   It should be a tuple (or list) containing `(path_to_raster, band_number)`"
            ]
        },
        {
            "cell_type": "code",
            "execution_count": null,
            "metadata": {},
            "outputs": [],
            "source": [
                "maize_production_filename = 'maize_production.tif'\n",
                "maize_production_path = os.path.join(base_data_dir, maize_production_filename)\n",
                "base_raster_path_band = (maize_production_path, 1)"
            ]
        },
        {
            "cell_type": "code",
            "execution_count": null,
            "metadata": {},
            "outputs": [],
            "source": [
                "# Call zonal_statistics function on our raster and the world polygons\n",
                "# save the result to a variable named result \n",
                "result = pgp.zonal_statistics(base_raster_path_band, world_path)\n",
                "\n",
                "# Inspect the result\n",
                "print(result)"
            ]
        },
        {
            "cell_type": "markdown",
            "metadata": {},
            "source": [
                "### What is this result?\n",
                "\n",
                "- We see a dictionary with key for each country's index\n",
                "  - Nested in there is a new dictionary containing the stats\n",
                "- Unless you're a robot, this is probably hard to read. Let's join it back with our world vector file\n",
                "  - The best way forward is to merge this dictionary back into our world GDF\n",
                "    - The key of the dictionary corresponds to the `id` for each country within the GDF\n",
                "    - So it's a simple merge on that column\n",
                "- I just might assign doing this in the next problem set...\n",
                "\n",
                "\n",
                "# Appendix\n",
                "\n",
                "### Grouping\n",
                "\n",
                "Because geopandas builds on pandas, all the usual operations (i.e. groupby) that you might do on a pandas dataframe also work for non-geometry columns.\n",
                "\n",
                "### Aggregation and Dissolve\n",
                "\n",
                "A useful common map operation is to aggregate by spatial region: i.e. to eliminate some of the granularity of a map by combining smaller regions into larger regions. This is called a \"dissolve\" because it dissolves the boundaries between regions to form larger ones.\n",
                "\n",
                "To demonstrate it, lets take the many UK local authority districts and dissolve them into the UK countries. We can do this using the LAD20CD column because the code used for it always begins with a letter that represents the country: E for England, W for Wales, N for Northern Ireland, and S for Scotland. So to do the dissolve, we first create a new column just like we would do for a groupby in a regular pandas dataframe. But instead of using groupby, we dissolve by the new column. This will give us a new map that is made up of only 4 polygons.`"
            ]
        }
    ],
    "metadata": [
        {
            "kernelspec": {
                "display_name": "Python 3 (ipykernel)",
                "language": "python",
                "name": "python3"
            }
        }
    ],
    "nbformat": 4,
    "nbformat_minor": 4
}
