{
    "cells": [
        {
            "cell_type": "markdown",
            "metadata": {},
            "source": [
                "# Preface {.unnumbered}\n",
                "\n",
                "This is a a work in progress that combines code from many different aspects of my reserach, including from land-use change modeling (SEALS), ecosystem services modeling (InVEST), general equilibrium modeling (GTAP), APEC 8222 (Big Data for Economists), APEC 8601 (Natural Resource Economics) and several sources.\n",
                "\n",
                "This book makes extensive use of other open-source textbooks. Acknowledgements for source material appear in each relevant file. Most have been modified to fit the topic at hand (unless they are licensed under a No-Derivative Work type of license, in which case they are just provided verbatim for easy access).\n",
                "\n",
                "This will eventually grow to form the core textbook content for new iterations of theses courses as well as the documentation for the respective models."
            ]
        }
    ],
    "metadata": [
        {
            "kernelspec": {
                "name": "python3",
                "language": "python",
                "display_name": "Python 3 (ipykernel)"
            }
        }
    ],
    "nbformat": 4,
    "nbformat_minor": 4
}