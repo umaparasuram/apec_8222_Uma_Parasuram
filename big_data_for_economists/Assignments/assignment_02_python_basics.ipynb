{
    "cells": [
        {
            "cell_type": "markdown",
            "metadata": {},
            "source": [
                "For this assignment, enter Python code into code blocks below. I have provided some empty code blocks you can use. Throughout, use comments to explain steps you are doing. No need to go overboard but it is always important in coding to be as descriptive as possible.\n",
                "\n",
                "Most things in this can be solved using methods shown in lecture. However, some cases will require you to search the internet for answers. This is intended because efficiently searching documentation or Stackoverflow is a requirement of modern programing. Also note there will be similar-sounding questions for your practice.\n",
                "\n",
                "\n",
                "## Question 1\n",
                "\n",
                "a). **Indentation and Pythonic Code**:\n",
                "   - Create a function named `print_numbers` that prints numbers from 1 to 10, each on a new line. Ensure your code is properly indented and follows Pythonic conventions."
            ]
        },
        {
            "cell_type": "code",
            "metadata": {},
            "source": [
                "#1 a) Answer"
            ],
            "execution_count": null,
            "outputs": []
        },
        {
            "cell_type": "markdown",
            "metadata": {},
            "source": [
                "b.) **Rules of Functions and Comments**:\n",
                "   - Define a function named `calculate_area` that takes two arguments `length` and `width`, and returns the area of a rectangle. Include a docstring explaining what the function does. See the lecture notes for an example of a docstring."
            ]
        },
        {
            "cell_type": "code",
            "metadata": {},
            "source": [
                "#1 b) Answer:"
            ],
            "execution_count": null,
            "outputs": []
        },
        {
            "cell_type": "markdown",
            "metadata": {},
            "source": [
                "c.) **Basic Data Types**:\n",
                "   - Create a variable `is_active` and set it to `True`. Print the type of `is_active` using the `type()` function."
            ]
        },
        {
            "cell_type": "code",
            "metadata": {},
            "source": [
                "#1 c) Answer:"
            ],
            "execution_count": null,
            "outputs": []
        },
        {
            "cell_type": "markdown",
            "metadata": {},
            "source": [
                "d.) **Working with Lists**:\n",
                "   - Create a list named `fruits` containing some fruit names. Use the `append` method to add 'Mango' to the list and print the updated list."
            ]
        },
        {
            "cell_type": "code",
            "metadata": {},
            "source": [
                "#1 d) Answer:"
            ],
            "execution_count": null,
            "outputs": []
        },
        {
            "cell_type": "markdown",
            "metadata": {},
            "source": [
                "## Question 2:\n",
                "a.) **Naming Conventions**:\n",
                "   - Create a variable following the snake_case naming convention to store the number of days in a week."
            ]
        },
        {
            "cell_type": "code",
            "metadata": {},
            "source": [
                "#2 a) Answer: "
            ],
            "execution_count": null,
            "outputs": []
        },
        {
            "cell_type": "markdown",
            "metadata": {},
            "source": [
                "b.) **Control Flows - Conditionals**:\n",
                "   - Write a simple program that checks if a number is positive, negative, or zero using `if`, `elif`, and `else` statements."
            ]
        },
        {
            "cell_type": "code",
            "metadata": {},
            "source": [
                "#2 b) Answer:"
            ],
            "execution_count": null,
            "outputs": []
        },
        {
            "cell_type": "markdown",
            "metadata": {},
            "source": [
                "c.) **Control Flows - Loops**:\n",
                "   - Write a `for` loop to calculate the sum of numbers from 1 to 100."
            ]
        },
        {
            "cell_type": "code",
            "metadata": {},
            "source": [
                "#2 c) Answer:"
            ],
            "execution_count": null,
            "outputs": []
        },
        {
            "cell_type": "markdown",
            "metadata": {},
            "source": [
                "d.) **Control Flows - Loop Control Statements**:\n",
                "   - Modify the loop from the previous sub-question to stop the loop if the sum becomes greater than 1000 using a `break` statement."
            ]
        },
        {
            "cell_type": "code",
            "metadata": {},
            "source": [
                "#2 c) Answer: "
            ],
            "execution_count": null,
            "outputs": []
        },
        {
            "cell_type": "markdown",
            "metadata": {},
            "source": [
                "e.) **Functions - Arguments and Return Values**:\n",
                "   - Create a function named `get_full_name` that takes two arguments `first_name` and `last_name`, and returns the full name."
            ]
        },
        {
            "cell_type": "code",
            "metadata": {},
            "source": [
                "#2 e) Answer:"
            ],
            "execution_count": null,
            "outputs": []
        },
        {
            "cell_type": "markdown",
            "metadata": {},
            "source": [
                "## Question 3\n",
                "**Part A:** Write a python function that calculates the sum of all squared \n",
                "numbers from 1 to x. Illustrate that it works for x = 20.\n",
                "\n",
                "HINT, ** is the exponent operator in python.\n",
                "HINT syntax for a python function is:\n",
                "\n",
                "def function_name(variable_name):\n",
                "    outcome = variable_name + 1\n",
                "    return outcome"
            ]
        },
        {
            "cell_type": "code",
            "metadata": {},
            "source": [
                "#3A Answer"
            ],
            "execution_count": null,
            "outputs": []
        },
        {
            "cell_type": "markdown",
            "metadata": {},
            "source": [
                "The python library named \"os\" is a built-in library for dealing with any file on your operating system.\n",
                "Often, research tasks involve LOTS of files and you need to iterate over them. To show you know how\n",
                "to do this, use the os.listdir function to answer the following questions. Note that you need to \n",
                "write \"import os\" to import the library into your code before you can use it:\n",
                "\n",
                "**Part B:** Print out a list of all the files your class root directory. I don't care how many are actually there (in case you've added some yourself) but show me how."
            ]
        },
        {
            "cell_type": "code",
            "metadata": {},
            "source": [
                "#3B Answer"
            ],
            "execution_count": null,
            "outputs": []
        },
        {
            "cell_type": "markdown",
            "metadata": {},
            "source": [
                "**Part C:** Using a FOR loop, iterate over the list from above. Using the function len(), count how many letters there are in the filenames. HINT just like in real life, you may need to google the len() function and see how it work on e.g. strings."
            ]
        },
        {
            "cell_type": "code",
            "metadata": {},
            "source": [
                "#3C Answer"
            ],
            "execution_count": null,
            "outputs": []
        },
        {
            "cell_type": "markdown",
            "metadata": {},
            "source": [
                "**Part D:** Write a Python program which iterates over the integers from 1 to 50. For multiples of three print \"Fizz\" instead of the number and for the multiples of five print \"Buzz\". For numbers which are multiples of both three and five print \"FizzBuzz\". Hint: look up how to use the modulo operator (which is written as % in python) which would let you test when the remainder of a devision is exactly 0.\n",
                "\n",
                "Side-note, this is a hilariously over-used question that most software engineers get askedon their first interview for a job."
            ]
        },
        {
            "cell_type": "code",
            "metadata": {},
            "source": [
                "# 3D Answer"
            ],
            "execution_count": null,
            "outputs": []
        }
    ],
    "metadata": [
        {
            "kernelspec": {
                "name": "python3",
                "language": "python",
                "display_name": "Python 3 (ipykernel)"
            }
        }
    ],
    "nbformat": 4,
    "nbformat_minor": 4
}