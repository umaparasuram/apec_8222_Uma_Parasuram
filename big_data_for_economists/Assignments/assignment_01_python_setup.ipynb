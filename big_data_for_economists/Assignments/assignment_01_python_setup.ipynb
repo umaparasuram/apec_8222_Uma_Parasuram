{
    "cells": [
        {
            "cell_type": "markdown",
            "metadata": {},
            "source": [
                "You will submit the results of this code into the assignment page listed on Canvas. This will prove to me you’ve done everything you need to and we’ll be ready to dive into Machine Learning!. If you’re auditing this course, just email me your github name and the output of the assignment below.\n",
                "\n",
                "Assignment:\n",
                "1. Open a terminal to run Python. If you’re on Windows, you can do this in the start menu by searching for or finding “Miniforge Prompt”. On mac, you can just use the built in terminal.\n",
                "2. Enter the following text into the terminal, one line at a time:\n",
                "\tmamba init\n",
                "\tmamba activate 8222env1\n",
                "\tpython\n",
                "\timport hazelbean\n",
                "\tprint(hazelbean)\n",
                "3. Copy and paste the last line of output from these commands into the Canvas assignment, along with your GitHub username. If everything was done correctly, the outline line should start with “<module ‘hazelbean’ ”.\n",
                "4. Celebrate!\n",
                "\n",
                "## Optional More\n",
                "\n",
                "If you're looking for more, here is one extra task: Run this notebook in VS Code! We'll talk more about VS Code in the next class, so don't worry if this doesn't make sense. If you do want to run this, open it and then select \"Run All\" at the top of the editor. It will automatically output how well you did (worth no class credit). \n"
            ]
        },
        {
            "cell_type": "code",
            "metadata": {},
            "source": [
                "import numpy as np\n",
                "import pandas as pd\n",
                "import sklearn\n",
                "from osgeo import gdal\n",
                "import hazelbean as hb\n",
                "\n",
                "def autograde():\n",
                "    \n",
                "    if len(str(hb.__name__)) == 9:\n",
                "        return '100%'\n",
                "    else:\n",
                "        return \"0%. Keep trying! Feel free to email me in advance of the first Python lecture. Don't save this for teh last day!\"\n",
                "\n",
                "print('Hazelbean library imported successfully:', hb)\n",
                "\n",
                "print('Autograding output:', autograde())"
            ],
            "execution_count": null,
            "outputs": []
        }
    ],
    "metadata": [
        {
            "kernelspec": {
                "name": "python3",
                "language": "python",
                "display_name": "Python 3 (ipykernel)"
            }
        }
    ],
    "nbformat": 4,
    "nbformat_minor": 4
}