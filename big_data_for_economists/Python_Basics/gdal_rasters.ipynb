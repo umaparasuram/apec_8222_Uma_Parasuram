{
    "cells": [
        {
            "cell_type": "markdown",
            "metadata": {},
            "source": [
                "# GDAL Rasters\n",
                "\n",
                "For spatial data, the amazing workhorse is GDAL (I realize now I use the word workhorse waaaaaay way too much). You might have heard of this in the R context from RGDAL. The open-source scientific computing stack is all interlinked. Under the hood, just like with Numpy, GDAL is implemented in very fast C-based code. The python bindings are just a way to access that code from python.\n",
                "\n",
                "## Spatial data in Jupyter\n",
                "\n",
                "First we're going to import gdal, numpy and a few other things."
            ]
        },
        {
            "cell_type": "code",
            "metadata": {},
            "source": [
                "from osgeo import gdal\n",
                "import numpy as np\n",
                "import os, random"
            ],
            "execution_count": null,
            "outputs": []
        },
        {
            "cell_type": "markdown",
            "metadata": {},
            "source": [
                "First, define the path to our raster data. This is remarkably difficult (at least, as measured by how many hours I have wasted because my code pointed to the wrong place). A the superior way to manage this is with RELATIVE PATHS. Here, we define the filename, the directory in relative terms, and then join them together using the os functions."
            ]
        },
        {
            "cell_type": "code",
            "metadata": {},
            "source": [
                "geotiff_filename = 'rwanda_lulc_2015.tif'\n",
                "\n",
                "# the ../ notation means go up one level relative to your current working directory. This gets us outside of the course\n",
                "# repository and into our Data directory\n",
                "data_directory = '../../../data' \n",
                "\n",
                "# Join them together (this will work across operating systems)\n",
                "geotiff_file_path = os.path.join(data_directory, geotiff_filename)\n",
                "\n",
                "print('geotiff_file_path', geotiff_file_path)"
            ],
            "execution_count": null,
            "outputs": []
        },
        {
            "cell_type": "markdown",
            "metadata": {},
            "source": [
                "It's easy to get confused by relative paths, accidentally missing a level or something. In my experience (and looking at what questions we've had come up so far in class), the majority of code errors come from pointing to a \"path\" that does not exist on your harddrive.\n",
                "\n",
                "Relative filepaths are defined relative to the current working directory (CWD). One way to trouble-shoot missing paths, then, is to view the current working direcotry:"
            ]
        },
        {
            "cell_type": "code",
            "metadata": {},
            "source": [
                "print(os.getcwd())"
            ],
            "execution_count": null,
            "outputs": []
        },
        {
            "cell_type": "markdown",
            "metadata": {},
            "source": [
                "Or to view the absolute path:"
            ]
        },
        {
            "cell_type": "code",
            "metadata": {},
            "source": [
                "os.path.abspath(data_directory)"
            ],
            "execution_count": null,
            "outputs": []
        },
        {
            "cell_type": "markdown",
            "metadata": {},
            "source": [
                "Sometimes it can be useful to see what is in the directory you've specified (to help you figure out what's going on if it can't find the file)"
            ]
        },
        {
            "cell_type": "code",
            "metadata": {},
            "source": [
                "contents = os.listdir(data_directory)\n",
                "print(contents)"
            ],
            "execution_count": null,
            "outputs": []
        },
        {
            "cell_type": "code",
            "metadata": {},
            "source": [
                "# If you want to be super clear, you can actually check if it exists\n",
                "print(os.path.exists(geotiff_file_path))"
            ],
            "execution_count": null,
            "outputs": []
        },
        {
            "cell_type": "markdown",
            "metadata": {},
            "source": [
                "## GDAL and opening the raster\n",
                "\n",
                "Now that we know for sure that the file is there, we can use gdal and it's Open function using the DOT notation (technically its a \"method\" not a function, but you can ignore that. If you're actually curious about object-oriented programming, a method is just a function attached to an object.)."
            ]
        },
        {
            "cell_type": "code",
            "metadata": {},
            "source": [
                "maize_production_tons_per_cell = gdal.Open(geotiff_file_path)\n",
                "print(maize_production_tons_per_cell)"
            ],
            "execution_count": null,
            "outputs": []
        },
        {
            "cell_type": "markdown",
            "metadata": {},
            "source": [
                "The dataset object holds information about the area and extent of the data, or the geotransform information"
            ]
        },
        {
            "cell_type": "code",
            "metadata": {},
            "source": [
                "geotransform = maize_production_tons_per_cell.GetGeoTransform()\n",
                "projection = maize_production_tons_per_cell.GetProjection()\n",
                "\n",
                "print('GDAL dataset geotransform', geotransform)\n",
                "print('GDAL dataset projection', projection)"
            ],
            "execution_count": null,
            "outputs": []
        },
        {
            "cell_type": "markdown",
            "metadata": {},
            "source": [
                "IMPORTANT ANNOYING NOTE: in programming, there are different conventions for identifying a place by rows, cols vs. x, y vs. upper-left, lower-right, etc. Numpy is denoted row, col but gdal is denoted X, Y (which flips the order). Just memorize that row = Y and col = X."
            ]
        },
        {
            "cell_type": "code",
            "metadata": {},
            "source": [
                "n_rows = maize_production_tons_per_cell.RasterYSize\n",
                "print('Number of rows in a GDAL dataset', n_rows)\n",
                "\n",
                "n_cols = maize_production_tons_per_cell.RasterXSize\n",
                "print('Number of columns in a GDAL dataset', n_cols)"
            ],
            "execution_count": null,
            "outputs": []
        },
        {
            "cell_type": "markdown",
            "metadata": {},
            "source": [
                "Next, get the \"band\" of the dataset. Many datasets have multiple layers (e.g. NetCDFs). Geotiffs can have multiple bands but often have just 1. For now, grab band 1"
            ]
        },
        {
            "cell_type": "code",
            "metadata": {},
            "source": [
                "maize_production_tons_per_cell_band = maize_production_tons_per_cell.GetRasterBand(1)"
            ],
            "execution_count": null,
            "outputs": []
        },
        {
            "cell_type": "markdown",
            "metadata": {},
            "source": [
                "The band object has information too, like the datatype of the geotiff:"
            ]
        },
        {
            "cell_type": "code",
            "metadata": {},
            "source": [
                "data_type = maize_production_tons_per_cell_band.DataType\n",
                "no_data_value = maize_production_tons_per_cell_band.GetNoDataValue()\n",
                "\n",
                "print('data_type', data_type)\n",
                "print('no_data_value', no_data_value)"
            ],
            "execution_count": null,
            "outputs": []
        },
        {
            "cell_type": "markdown",
            "metadata": {},
            "source": [
                "Finally, we can get the array from the band as a numpy array:"
            ]
        },
        {
            "cell_type": "code",
            "metadata": {},
            "source": [
                "array = maize_production_tons_per_cell_band.ReadAsArray()\n",
                "shape = array.shape\n",
                "\n",
                "print('Look at the array itself', array)"
            ],
            "execution_count": null,
            "outputs": []
        },
        {
            "cell_type": "markdown",
            "metadata": {},
            "source": [
                "## Plotting a raster\n",
                "\n",
                "We are now going to use matplotlib. It is basically like ggplot and draws its inspiration from MATLAB notation. By convention, we'll import it into the variable name plt, which is an object that lets us use matplotlib plotting notation."
            ]
        },
        {
            "cell_type": "code",
            "metadata": {},
            "source": [
                "import matplotlib.pyplot as plt\n",
                "\n",
                "plt.imshow(array)\n",
                "plt.title('Land-use, land-cover')\n",
                "plt.colorbar(orientation='horizontal')\n",
                "\n",
                "# Uncomment this if you want to save it\n",
                "# plt.savefig('maize.png', dpi=300) \n",
                "\n",
                "plt.show()"
            ],
            "execution_count": null,
            "outputs": []
        },
        {
            "cell_type": "markdown",
            "metadata": {},
            "source": [
                "This is super ugly for one primary reason: it has scaled the colorbar to the minimum and maximum values, which ends up coloring nearly everything close to the zero value. We're going to crop the values it shoes to not let the outliers define the colorbar range."
            ]
        },
        {
            "cell_type": "code",
            "metadata": {},
            "source": [
                "import matplotlib.pyplot as plt\n",
                "\n",
                "# The second (and often better) plotting method is to use plt to create a figure and one ore more axes.\n",
                "# This is potentially confusing but is powerful. the Axes object we created (ax) is the plottable area (and there could be lots of axes)\n",
                "# The figure contains all the axes and is responsible for organizing stuff.\n",
                "\n",
                "fig = plt.figure(figsize=(8, 6))\n",
                "fig.set_dpi(300)\n",
                "\n",
                "ax = fig.add_subplot()\n",
                "\n",
                "# Set the title of this ax object\n",
                "ax.set_title('Land-use, land-cover')\n",
                "\n",
                "# Using the ax we created, we call the imshow function on our array from earlier. This create a new \"im\" object\n",
                "im = ax.imshow(array)\n",
                "\n",
                "# To fix the outlier problem from before, we use the im object to set its limits.\n",
                "im.set_clim(0, 200)\n",
                "\n",
                "# Set the cbar to spectral\n",
                "im.set_cmap('Spectral')\n",
                "\n",
                "# Get the cmap\n",
                "cmap = im.get_cmap()\n",
                "cmap.set_over('white', alpha=1.0)\n",
                "\n",
                "\n",
                "# Add the colorbar to the figure. It will generate its values from the im object.\n",
                "fig.colorbar(im, orientation='horizontal')\n",
                "\n",
                "plt.show()"
            ],
            "execution_count": null,
            "outputs": []
        },
        {
            "cell_type": "markdown",
            "metadata": {},
            "source": [
                "## Copies versus Views in Numpy\n",
                "\n",
                "Part of how Numpy arrays are fast is the only ever load or access data when it is needed. This means that if you don't tell numpy to make a copy of something, any new variable will point to the old array. More specifically, this only creates a new pointer to the same block of memory on your computer that holds the array. If we change c_view, c will also be changed. So in the below, c_view only points to the old data in c. This is called a \"view\" of the array."
            ]
        },
        {
            "cell_type": "code",
            "metadata": {},
            "source": [
                "c_view = array"
            ],
            "execution_count": null,
            "outputs": []
        },
        {
            "cell_type": "markdown",
            "metadata": {},
            "source": [
                "This also means that if you modify array, you will be modifying what you have in c_view.\n",
                "\n",
                "If you really need a copy in memory, you can use the numpy method copy():"
            ]
        },
        {
            "cell_type": "code",
            "metadata": {
                "pycharm": {
                    "name": "#%%\n"
                }
            },
            "source": [
                "d = array.copy()"
            ],
            "execution_count": null,
            "outputs": []
        },
        {
            "cell_type": "markdown",
            "metadata": {},
            "source": [
                "This gives us a NEW array in a new block of memory, so changing array will not change d,\n",
                "\n",
                "## In-class exercise 4.1\n",
                "\n",
                "Here you will use GDAL and numpy to do some highly-optimized raster manipulation.\n",
                "\n",
                "Using data from Earthstat, I want you to calculate the production per grid-cell of Maize, globally, at \"high\"-resolution.\n",
                "\n",
                "The two files you need are in your class data directory (obtained from google drive) named as follows.\n",
                "\n",
                "```         \n",
                "maize_HarvestedAreaHectares.tif\n",
                "maize_YieldPerHectare.tif\n",
                "```\n",
                "\n",
                "Use the os.path.join() approach from earlier to correcly make relative paths pointing to the two files.\n",
                "\n",
                "Open them up as raster using Gdal.\n",
                "\n",
                "Multiply the HarvestedAreaHectars by YieldPerHectare. This will give you the total production on the grid-cell.\n",
                "\n",
                "Use numpy to sum up the total production of Maize globally and report that to the class.\n",
                "\n",
                "# Saving a raster to your harddrive\n",
                "\n",
                "Now that you've created an amazing raster of total maize production, you might want to save it to your harddrive.\n",
                "\n",
                "To do this, we're first going to define a new filename for our output file. In the code below, + concatenates things. Str() makes the number a string."
            ]
        },
        {
            "cell_type": "code",
            "metadata": {},
            "source": [
                "output_filename = 'gdal_created_array_' + str(random.randint(1, 1000000)) + '.tif'\n",
                "output_file_path = os.path.join(data_directory, output_filename)"
            ],
            "execution_count": null,
            "outputs": []
        },
        {
            "cell_type": "markdown",
            "metadata": {},
            "source": [
                "Create a new file at that filename location using the attributes we used above. Notice that we flipped n_cols and n_rows from how numpy would have wanted it. For extra BONUS value, replace the d array with the one you created in the in-class exercise."
            ]
        },
        {
            "cell_type": "code",
            "metadata": {},
            "source": [
                "output_dataset = gdal.GetDriverByName('GTiff').Create(output_file_path, d.shape[1], d.shape[0], 1, 6)"
            ],
            "execution_count": null,
            "outputs": []
        },
        {
            "cell_type": "markdown",
            "metadata": {},
            "source": [
                "Set dataset-level information. Here we're just using what we got from the input raster, defined above."
            ]
        },
        {
            "cell_type": "code",
            "metadata": {},
            "source": [
                "output_dataset.SetGeoTransform(geotransform)\n",
                "output_dataset.SetProjection(projection)"
            ],
            "execution_count": null,
            "outputs": []
        },
        {
            "cell_type": "markdown",
            "metadata": {},
            "source": [
                "Now get a band from our new dataset on which we'll write our array."
            ]
        },
        {
            "cell_type": "code",
            "metadata": {},
            "source": [
                "output_band = output_dataset.GetRasterBand(1)"
            ],
            "execution_count": null,
            "outputs": []
        },
        {
            "cell_type": "markdown",
            "metadata": {},
            "source": [
                "Do the array writing"
            ]
        },
        {
            "cell_type": "code",
            "metadata": {},
            "source": [
                "output_band.WriteArray(d)"
            ],
            "execution_count": null,
            "outputs": []
        },
        {
            "cell_type": "markdown",
            "metadata": {},
            "source": [
                "Set any final band-level information"
            ]
        },
        {
            "cell_type": "code",
            "metadata": {},
            "source": [
                "output_band.SetNoDataValue(no_data_value)"
            ],
            "execution_count": null,
            "outputs": []
        },
        {
            "cell_type": "markdown",
            "metadata": {},
            "source": [
                "Finally, and very importantly, clean up after yourself. It wont actually write until the resources in memory have been released."
            ]
        },
        {
            "cell_type": "code",
            "metadata": {},
            "source": [
                "d = None\n",
                "output_band = None\n",
                "output_dataset = None"
            ],
            "execution_count": null,
            "outputs": []
        }
    ],
    "metadata": [
        {
            "kernelspec": {
                "name": "python3",
                "language": "python",
                "display_name": "Python 3 (ipykernel)"
            }
        }
    ],
    "nbformat": 4,
    "nbformat_minor": 4
}