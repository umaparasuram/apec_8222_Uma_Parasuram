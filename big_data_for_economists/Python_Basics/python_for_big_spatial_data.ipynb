{
    "cells": [
        {
            "cell_type": "markdown",
            "metadata": {},
            "source": [
                "While we’re waiting, go ahead and get the lecture slides which I’ve just uploaded to canvas. Also pull the latest code from our repository.\n",
                "\n",
                "\n",
                "![Random python-related tweet](images/lec3_image1.png){width=100% #fig-3_1}\n",
                "\n",
                "\n",
                "\n",
                "# Overview for today\n",
                "\n",
                "- Yesterday, we connected to GitHub and gave a brutally quick introduction to Python.\n",
                "- Today we’re going to:\n",
                "    - Pickup where we left off\n",
                "    - Learn more about Numpy\n",
                "    - Learn about spatial data in Python\n",
                "    - Do raster-math “at scale”\n",
                "    - If there’s time, start into our first Machine Learning model\n",
                "\n",
                "# Introduction to big and spatial data\n",
                "- Example from recent publication in Ecological Economics\n",
                "![](images/lec3_image3.png){width=70% #fig-3_3}\n",
                "\n",
                "- Combined both econometrics and “big-data array manipulation”\n",
                "![](images/lec3_image2.png){width=70% #fig-3_2}\n"
            ]
        }
    ],
    "metadata": [
        {
            "kernelspec": {
                "name": "python3",
                "language": "python",
                "display_name": "Python 3 (ipykernel)"
            }
        }
    ],
    "nbformat": 4,
    "nbformat_minor": 4
}