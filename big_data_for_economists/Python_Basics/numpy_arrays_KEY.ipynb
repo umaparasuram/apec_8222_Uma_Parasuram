{
    "cells": [
        {
            "cell_type": "markdown",
            "metadata": {},
            "source": [
                "# Numpy Arrays\n",
                "\n",
                "Numpy is the highly-optimized, super-fast workhorse that underlies much of the scientific computing stack see Harris et al. 2020 in Nature for evidence.\n"
            ]
        },
        {
            "cell_type": "code",
            "metadata": {},
            "source": [
                "import numpy as np\n",
                "\n",
                "# We're also going to want to look at matrices, so let's import matplotlib too.\n",
                "# this import statement is more complex, but of key importance, it creates a plt object we'll use later\n",
                "import matplotlib.pyplot as plt\n",
                "\n",
                "# Create a 1 dimensional array 15 elements long. np.arange is a FAST version of python range()\n",
                "a = np.arange(15)\n",
                "\n",
                "print(a)"
            ],
            "execution_count": null,
            "outputs": []
        },
        {
            "cell_type": "markdown",
            "metadata": {},
            "source": [
                "Now plot this ultra simple array using matplotlib."
            ]
        },
        {
            "cell_type": "code",
            "metadata": {},
            "source": [
                "plt.plot(a)\n",
                "plt.show()"
            ],
            "execution_count": null,
            "outputs": []
        },
        {
            "cell_type": "markdown",
            "metadata": {},
            "source": [
                "Reshape our array into a 2 dimensional array of size 3 by 5.\n",
                "\n",
                "NOTE, numpy, and about 60% of computer programming, denotes things in terms of Row then Column (RC order) but some things, especially those that regard displaying pixels, denote things as x, y (which note is CR order)"
            ]
        },
        {
            "cell_type": "code",
            "metadata": {},
            "source": [
                "a = np.arange(15).reshape(3, 5)\n",
                "\n",
                "print(a)"
            ],
            "execution_count": null,
            "outputs": []
        },
        {
            "cell_type": "markdown",
            "metadata": {},
            "source": [
                "That makes sense and kind we can kinda visualize the array in our head. Let's plot it."
            ]
        },
        {
            "cell_type": "code",
            "metadata": {},
            "source": [
                "plt.plot(a)\n",
                "plt.show()"
            ],
            "execution_count": null,
            "outputs": []
        },
        {
            "cell_type": "markdown",
            "metadata": {},
            "source": [
                "The above show probably is not what you expected. It has interpreted it as five different lines, but we probably meant to\n",
                "think of it as a matrix. For this, use imshow() rather than plot()."
            ]
        },
        {
            "cell_type": "code",
            "metadata": {},
            "source": [
                "plt.imshow(a)\n",
                "plt.show()"
            ],
            "execution_count": null,
            "outputs": []
        },
        {
            "cell_type": "markdown",
            "metadata": {},
            "source": [
                "## Arrays as objects\n",
                "\n",
                "The a variable we defined holds much more information than jsut the raw values. It also gives us useful information necessary for working with really big data."
            ]
        },
        {
            "cell_type": "code",
            "metadata": {},
            "source": [
                "# a is an OBJECT, which has lots of useful attributes, such as:\n",
                "array_shape = a.shape\n",
                "print(array_shape)\n",
                "print(a.ndim)\n",
                "print(a.dtype.name)\n",
                "print(a.size)\n",
                "print(a.itemsize) #8 Pro-level question. Why does this return 8? Hint 8 * 8 = 64.\n",
                "print(type(a)) "
            ],
            "execution_count": null,
            "outputs": []
        },
        {
            "cell_type": "markdown",
            "metadata": {},
            "source": [
                "## Creating an array from values"
            ]
        },
        {
            "cell_type": "code",
            "metadata": {},
            "source": [
                "a = np.array([1,2,3,4])  # RIGHT\n",
                "# a = np.array(1,2,3,4)    # WRONG: TypeError: array() takes from 1 to 2 positional arguments but 4 were given. Uncomment this to see what happens with error handling.\n",
                "\n",
                "# 2d version\n",
                "b = np.array([(1.5,2,3), (4,5,6)])\n",
                "\n",
                "print('b\\n', b)"
            ],
            "execution_count": null,
            "outputs": []
        },
        {
            "cell_type": "code",
            "metadata": {},
            "source": [
                "# Creating an empty array of zeros # NOTICE the extra paranetheses.\n",
                "np.zeros((3, 4))\n",
                "\n",
                "# or ones.\n",
                "np.ones((2, 3), dtype=np.int16)                # dtype can also be specified\n",
                "\n",
                "# or ones.\n",
                "r = np.random.random((3, 4))                # dtype can also be specified\n",
                "# print('r', r)\n",
                "\n",
                "# Or even faster, just \"allocate the memory\" with an empty matrix.\n",
                "c = np.empty((2,3))"
            ],
            "execution_count": null,
            "outputs": []
        },
        {
            "cell_type": "markdown",
            "metadata": {},
            "source": [
                "## Array math\n",
                "\n",
                "Numpy is super smart about doing matrix math across multiple dimensions. Note how in the below, it correctly guesses we wanted to add things element-wise."
            ]
        },
        {
            "cell_type": "code",
            "metadata": {},
            "source": [
                "# Array math\n",
                "a = np.array([20, 30, 40, 50.])\n",
                "b = np.arange(4)\n",
                "\n",
                "c = a-b\n",
                "\n",
                "print('a', a)\n",
                "print('b', b)\n",
                "print('c', c)"
            ],
            "execution_count": null,
            "outputs": []
        },
        {
            "cell_type": "code",
            "metadata": {},
            "source": [
                "# ** is the exponent operator in python\n",
                "d = b**2\n",
                "print('d', d)\n",
                "\n",
                "# Numpy also has handy array-enabled math operators\n",
                "e = 10*np.sin(a)\n",
                "print('e', e)\n",
                "\n",
                "# Con also create conditional arrays\n",
                "f = a<35\n",
                "print('f', f)"
            ],
            "execution_count": null,
            "outputs": []
        },
        {
            "cell_type": "markdown",
            "metadata": {},
            "source": [
                "## Slicing Arrays\n",
                "\n",
                "Sometimes you want to operate on a subset of an array. Slicing provies a high-performance way of doing this."
            ]
        },
        {
            "cell_type": "code",
            "metadata": {},
            "source": [
                "a = np.arange(10)\n",
                "b = np.arange(12).reshape(3, 4)\n",
                "print(a)\n",
                "print(b)\n",
                "\n",
                "# Can access items directly, but need as many indices as there are dimensions\n",
                "first_value = a[2]\n",
                "second_value = b[2, 3]\n",
                "print(first_value)\n",
                "print(second_value)"
            ],
            "execution_count": null,
            "outputs": []
        },
        {
            "cell_type": "code",
            "metadata": {},
            "source": [
                "# Can also access \"slices\", which are denoted Start, Stop, Stepsize\n",
                "r = a[1: 9: 2]\n",
                "print(r)"
            ],
            "execution_count": null,
            "outputs": []
        },
        {
            "cell_type": "code",
            "metadata": {},
            "source": [
                "# If you leave out the number and just have the colon, that means you want to use the default. So below, the\n",
                "# ::2 is interpretted as Start:End:Every-Other.\n",
                "# 3:: would be Start at the third:End:All.\n",
                "# :: would just be all the values.\n",
                "r = a[::2]\n",
                "print(r)"
            ],
            "execution_count": null,
            "outputs": []
        },
        {
            "cell_type": "code",
            "metadata": {},
            "source": [
                "# A single colon means also means use the full thing.\n",
                "r = a[:]\n",
                "print(r)"
            ],
            "execution_count": null,
            "outputs": []
        },
        {
            "cell_type": "code",
            "metadata": {},
            "source": [
                "# Using slices, you can also set individual elements in the array:\n",
                "r[0] = 33\n",
                "r[3:5] = 44\n",
                "print('r', r)"
            ],
            "execution_count": null,
            "outputs": []
        },
        {
            "cell_type": "code",
            "metadata": {},
            "source": [
                "# Setting in this way also can be done according to a condition:\n",
                "r[r <= 6] = 5\n",
                "print('r', r)"
            ],
            "execution_count": null,
            "outputs": []
        },
        {
            "cell_type": "code",
            "metadata": {},
            "source": [
                "# Finally, an alternate and possibly more powerful way of setting conditional values is the np.where function\n",
                "# This function sets anywhere greater than 10 to be 12, otherwise it keeps it at whatever value was already in r\n",
                "r = np.where(r > 10, 12, r)\n",
                "print('r', r)"
            ],
            "execution_count": null,
            "outputs": []
        },
        {
            "cell_type": "markdown",
            "metadata": {},
            "source": [
                "Finally, if you want to combine conditionals, when you're working inside an array you need to use Parentheses, & for and and | for or, as below."
            ]
        },
        {
            "cell_type": "code",
            "metadata": {},
            "source": [
                "d[(d > 200) & (d < 10000)] = 33"
            ],
            "execution_count": null,
            "outputs": []
        },
        {
            "cell_type": "markdown",
            "metadata": {},
            "source": [
                "# In-class Exercise 4.1\n",
                "\n",
                "Create 1D array 35 elements long using np.arange(). Reshape it into a 2D array of size 5 by 7. Then, use for loops to iterate through each array cell and multiply the value by what row it is in. \n"
            ]
        },
        {
            "cell_type": "code",
            "metadata": {},
            "source": [
                "# Starter code \n",
                "\n",
                "# Might want to use matrix.shape[0] and matrix.shape[1] to get the number of rows and columns\n",
                "# for row in range():\n",
                "#     for col in range():\n",
                "#         do_something\n"
            ],
            "execution_count": null,
            "outputs": []
        },
        {
            "cell_type": "code",
            "metadata": {},
            "source": [
                "# KEY \n",
                "\n",
                "flat_array = np.arange(35)\n",
                "print('flat_array', flat_array)\n",
                "\n",
                "# Reshape it into a 5x7 matrix\n",
                "matrix = flat_array.reshape((5, 7))\n",
                "print('matrix', matrix)\n",
                "\n",
                "for row in range(matrix.shape[0]):\n",
                "\n",
                "    for col in range(matrix.shape[1]):\n",
                "        matrix[row, col] * row"
            ],
            "execution_count": null,
            "outputs": []
        },
        {
            "cell_type": "markdown",
            "metadata": {},
            "source": [
                "## Let's talk about performance\n",
                "\n",
                "Big data requires fast algorithms. What we did above was SLOW!Let's introduce a slow way of applying an algorithm, and then the fast way."
            ]
        },
        {
            "cell_type": "code",
            "metadata": {},
            "source": [
                "a = np.arange(20)\n",
                "# Slowly looping over arrays\n",
                "for i in a:\n",
                "    r = i**(1/3.)\n",
                "print('r', r)"
            ],
            "execution_count": null,
            "outputs": []
        },
        {
            "cell_type": "code",
            "metadata": {},
            "source": [
                "# Slowly loop to get the sum of the array\n",
                "r = 0\n",
                "b = np.arange(20).reshape(4, 5)\n",
                "for row in b:\n",
                "    print('row', row)\n",
                "    for value in row:\n",
                "        print('value', value)\n",
                "        r += value\n",
                "\n",
                "print('slow sum', r)"
            ],
            "execution_count": null,
            "outputs": []
        },
        {
            "cell_type": "markdown",
            "metadata": {},
            "source": [
                "NOTE: Iterating over arrays here is just for illustration as it is VERY VERY SLOW\n",
                "and loses the magic of numpy speed. We'll learn how to bet around this later\n",
                "by \"vectorizing\" functions, which basically means batch calculating\n",
                "everything in a vector all in one call. For now, here's an example of the\n",
                "much faster version"
            ]
        },
        {
            "cell_type": "code",
            "metadata": {},
            "source": [
                "r = b.sum()\n",
                "print('fast sum', r)"
            ],
            "execution_count": null,
            "outputs": []
        },
        {
            "cell_type": "markdown",
            "metadata": {},
            "source": [
                "## Diving into vectorized computation.\n",
                "\n",
                "Here we are going to do matrix math, but using the fast numpy methods."
            ]
        },
        {
            "cell_type": "code",
            "metadata": {},
            "source": [
                "# Vectorized multiplication (and broadcasting):\n",
                "\n",
                "# First lets make two arrays. This is the cannonical way of making example arrays\n",
                "a = np.arange(20).reshape(5, 4)\n",
                "b = np.arange(20).reshape(5, 4)\n",
                "print(a)\n",
                "print(b)"
            ],
            "execution_count": null,
            "outputs": []
        },
        {
            "cell_type": "code",
            "metadata": {},
            "source": [
                "c = a * b # NOTE: this does element-wise multiplication, not the matrix multiplication you learned in 7-th? grade.\n",
                "print(c)"
            ],
            "execution_count": null,
            "outputs": []
        },
        {
            "cell_type": "markdown",
            "metadata": {},
            "source": [
                "## Numpy broadcasting\n",
                "\n",
                "Numpy will smartly \"broadcast\" two matrices of different sizes or dimensions so that it works:"
            ]
        },
        {
            "cell_type": "code",
            "metadata": {},
            "source": [
                "d = np.arange(4)\n",
                "e = a * d # WAIT! Aren't you multiplying two different matrices with different sizes? Yes!\n",
                "print(e)"
            ],
            "execution_count": null,
            "outputs": []
        },
        {
            "cell_type": "markdown",
            "metadata": {},
            "source": [
                "Above,  Numpy smartly figured out how the two dimensions could be repeatedly broadcast to each other so the math was \"well defined.\""
            ]
        },
        {
            "cell_type": "code",
            "metadata": {},
            "source": [
                "# Also means you can use the same notation to multiply an array (2dim) against a scalar (0dim):\n",
                "f = a * 6.0\n",
                "print('f\\n', f)"
            ],
            "execution_count": null,
            "outputs": []
        },
        {
            "cell_type": "markdown",
            "metadata": {},
            "source": [
                "Let's plot the results of this new f matrix we created."
            ]
        },
        {
            "cell_type": "code",
            "metadata": {},
            "source": [
                "ax = plt.imshow(b)\n",
                "plt.show()"
            ],
            "execution_count": null,
            "outputs": []
        },
        {
            "cell_type": "markdown",
            "metadata": {},
            "source": [
                "Looks very similar to above, so let's add a colorbar to make clear this value is not just our starting array."
            ]
        },
        {
            "cell_type": "code",
            "metadata": {},
            "source": [
                "ax = plt.imshow(b)\n",
                "plt.colorbar(ax)\n",
                "plt.show()"
            ],
            "execution_count": null,
            "outputs": []
        },
        {
            "cell_type": "markdown",
            "metadata": {},
            "source": [
                "## Plot Mandlebrot\n",
                "\n",
                "With these tools, we can do all sorts of things. Just for fun, let's end this section by defining a function for the Mandlebrot set and then plotting the function."
            ]
        },
        {
            "cell_type": "code",
            "metadata": {},
            "source": [
                "def mandelbrot(h, w, maxit=20 ):\n",
                "    \"\"\"Returns an image of the Mandelbrot fractal of size (h,w).\"\"\"\n",
                "    y,x = np.ogrid[ -1.4:1.4:h*1j, -2:0.8:w*1j ]\n",
                "    c = x+y*1j\n",
                "    z = c\n",
                "    divtime = maxit + np.zeros(z.shape, dtype=int)\n",
                "\n",
                "    for i in range(maxit):\n",
                "        z = z**2 + c\n",
                "        diverge = z*np.conj(z) > 2**2            # who is diverging\n",
                "        div_now = diverge & (divtime==maxit)  # who is diverging now\n",
                "        divtime[div_now] = i                  # note when\n",
                "        z[diverge] = 2                        # avoid diverging too much\n",
                "\n",
                "    return divtime\n",
                "\n",
                "\n",
                "plt.imshow(mandelbrot(400, 400))\n",
                "plt.show()"
            ],
            "execution_count": null,
            "outputs": []
        },
        {
            "cell_type": "markdown",
            "metadata": {},
            "source": [
                "## In-class exercise 4.2:\n",
                "\n",
                "Again, I'll call on a random table to showcase their results.\n",
                "\n",
                "1. Create a 20 by 40 matrix of random values 0-1 (Hint: use the np.random.random function. Use VS Code's built-in help to see what you should enter).\n",
                "2. Set the upper left quadrant to 1. (Hint: use slices) \n",
                "3. Next, set the last COLUMN to 2.\n",
                "4. Finally, change all values less than .5 to be 3. (Use np.where)"
            ]
        },
        {
            "cell_type": "code",
            "metadata": {},
            "source": [
                "# Class activity workspace"
            ],
            "execution_count": null,
            "outputs": []
        },
        {
            "cell_type": "code",
            "metadata": {},
            "source": [
                "# KEY\n",
                "\n",
                "# Create a 20 by 40 matrix of random values 0-1\n",
                "a = np.random.random((20, 40))\n",
                "\n",
                "# Set the upper left quadrant to 1. (Hint: use slices) \n",
                "a[:10, :10] = 1\n",
                "\n",
                "# Next, set the last COLUMN to 2.\n",
                "a[:, -1] = 2\n",
                "\n",
                "# Finally, change all values less than .5 to be 3. (Use np.where)\n",
                "a = np.where(a < .5, 3, a)"
            ],
            "execution_count": null,
            "outputs": []
        }
    ],
    "metadata": [
        {
            "kernelspec": {
                "name": "python3",
                "language": "python",
                "display_name": "Python 3 (ipykernel)"
            }
        }
    ],
    "nbformat": 4,
    "nbformat_minor": 4
}