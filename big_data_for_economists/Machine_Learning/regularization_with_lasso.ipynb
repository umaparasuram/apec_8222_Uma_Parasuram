{
    "cells": [
        {
            "cell_type": "markdown",
            "metadata": {},
            "source": [
                "# Automatic feature selection with LASSO regression\n",
                "\n",
                "In this notebook we will learn how LASSO (Least Absolute Shrinkage and Selection Operator) regression works and how it can assist in automatically selecting which variables should be included using a **Cross-Validation** perspective.\n",
                "\n",
                "### Start by importing packages"
            ]
        },
        {
            "cell_type": "code",
            "execution_count": 1,
            "metadata": {},
            "outputs": [],
            "source": [
                "import matplotlib.pyplot as plt\n",
                "import numpy as np\n",
                "\n",
                "from sklearn.datasets import load_diabetes\n",
                "from sklearn.feature_selection import SelectFromModel\n",
                "from sklearn import datasets, linear_model\n",
                "from sklearn.linear_model import LassoCV, Lasso\n",
                "from sklearn.model_selection import KFold\n",
                "from sklearn.model_selection import GridSearchCV\n",
                "from sklearn.metrics import mean_squared_error, r2_score\n",
                "\n",
                "import statsmodels\n",
                "from statsmodels.api import OLS"
            ]
        },
        {
            "cell_type": "markdown",
            "metadata": {},
            "source": [
                "#### Load dataset and inspect it\n",
                "\n",
                "-   Again we're going to use our diabetes dataset.\n",
                "    -   Inspect it again just to remind yourself what is in it."
            ]
        },
        {
            "cell_type": "code",
            "execution_count": 2,
            "metadata": {},
            "outputs": [
                {
                    "name": "stdout",
                    "output_type": "stream",
                    "text": [
                        ".. _diabetes_dataset:\n",
                        "\n",
                        "Diabetes dataset\n",
                        "----------------\n",
                        "\n",
                        "Ten baseline variables, age, sex, body mass index, average blood\n",
                        "pressure, and six blood serum measurements were obtained for each of n =\n",
                        "442 diabetes patients, as well as the response of interest, a\n",
                        "quantitative measure of disease progression one year after baseline.\n",
                        "\n",
                        "**Data Set Characteristics:**\n",
                        "\n",
                        "  :Number of Instances: 442\n",
                        "\n",
                        "  :Number of Attributes: First 10 columns are numeric predictive values\n",
                        "\n",
                        "  :Target: Column 11 is a quantitative measure of disease progression one year after baseline\n",
                        "\n",
                        "  :Attribute Information:\n",
                        "      - age     age in years\n",
                        "      - sex\n",
                        "      - bmi     body mass index\n",
                        "      - bp      average blood pressure\n",
                        "      - s1      tc, total serum cholesterol\n",
                        "      - s2      ldl, low-density lipoproteins\n",
                        "      - s3      hdl, high-density lipoproteins\n",
                        "      - s4      tch, total cholesterol / HDL\n",
                        "      - s5      ltg, possibly log of serum triglycerides level\n",
                        "      - s6      glu, blood sugar level\n",
                        "\n",
                        "Note: Each of these 10 feature variables have been mean centered and scaled by the standard deviation times the square root of `n_samples` (i.e. the sum of squares of each column totals 1).\n",
                        "\n",
                        "Source URL:\n",
                        "https://www4.stat.ncsu.edu/~boos/var.select/diabetes.html\n",
                        "\n",
                        "For more information see:\n",
                        "Bradley Efron, Trevor Hastie, Iain Johnstone and Robert Tibshirani (2004) \"Least Angle Regression,\" Annals of Statistics (with discussion), 407-499.\n",
                        "(https://web.stanford.edu/~hastie/Papers/LARS/LeastAngle_2002.pdf)\n",
                        "\n",
                        "['age', 'sex', 'bmi', 'bp', 's1', 's2', 's3', 's4', 's5', 's6']\n"
                    ]
                }
            ],
            "source": [
                "# Load the diabetes dataset\n",
                "diabetes = load_diabetes()\n",
                "\n",
                "# Extract numpy arrays for X and y\n",
                "X = diabetes.data\n",
                "y = diabetes.target\n",
                "\n",
                "# Get the feature names\n",
                "feature_names = diabetes.feature_names\n",
                "\n",
                "# Print them out to look at them\n",
                "print(diabetes['DESCR'])\n",
                "print(feature_names)"
            ]
        },
        {
            "cell_type": "markdown",
            "metadata": {},
            "source": [
                "### Select subset of data\n",
                "\n",
                "-   To speed up calculation, we're going to just use the first 150 observations\n",
                "    -   Use numpy slice notation to grab them out of the X, y"
            ]
        },
        {
            "cell_type": "code",
            "execution_count": 3,
            "metadata": {},
            "outputs": [],
            "source": [
                "# Remember the notation for slices: X[start:stop:step]\n",
                "# where omitted values default to start=0, stop=size of dimension, step=1\n",
                "# So, X[:150] means \"grab the first 150 rows\"\n",
                "# X = X[:]\n",
                "# y = y[:150]\n",
                "\n",
                "# Split the data into training/testing sets using scikit-learn's train_test_split() function\n",
                "from sklearn.model_selection import train_test_split\n",
                "\n",
                "# Split the data into training/testing sets\n",
                "X_train, X_test, y_train, y_test = train_test_split(X, y, test_size=0.33, random_state=42)"
            ]
        },
        {
            "cell_type": "markdown",
            "metadata": {},
            "source": [
                "### Run OLS first (for comparison)\n",
                "\n",
                "Remember the standard Sklearn model steps:\n",
                "\n",
                "1.  create the model object\n",
                "2.  call the object's fit method.\n",
                "3.  use the fitted model to predict something.\n",
                "4.  assess the predictions."
            ]
        },
        {
            "cell_type": "code",
            "execution_count": 4,
            "metadata": {},
            "outputs": [
                {
                    "name": "stdout",
                    "output_type": "stream",
                    "text": [
                        "Coefficients: \n",
                        " [  32.14928032 -242.82449076  559.98996952  407.63766881 -718.69857577\n",
                        "  396.63703933   10.432395    171.81955335  627.07993787  -21.62312454]\n",
                        "Mean squared error: 2949.291573722149\n",
                        "Coefficient of determination: 0.5097545616479949\n"
                    ]
                }
            ],
            "source": [
                "# Create linear regression object\n",
                "model_ols = linear_model.LinearRegression()\n",
                "\n",
                "# Train the model using the training sets\n",
                "model_ols.fit(X_train, y_train)\n",
                "\n",
                "# Make predictions using the testing set\n",
                "y_train_hat = model_ols.predict(X_train)\n",
                "\n",
                "# The coefficients\n",
                "print(\"Coefficients: \\n\", model_ols.coef_)\n",
                "\n",
                "# The mean squared error\n",
                "mse_ols = mean_squared_error(y_train, y_train_hat)\n",
                "print(\"Mean squared error:\", mse_ols)\n",
                "\n",
                "# The coefficient of determination: 1 is perfect prediction\n",
                "r2_train_ols = r2_score(y_train, y_train_hat)\n",
                "print(\"Coefficient of determination:\", r2_train_ols)"
            ]
        },
        {
            "cell_type": "markdown",
            "metadata": {},
            "source": [
                "### Do it again in the econometrics style\n",
                "\n",
                "-   Recall that the package statsmodels is closer to the econometrician's way of doing things.\n",
                "-   We're going to quickly repeat the steps above but with Statsmodels so we can view it in a nice table form."
            ]
        },
        {
            "cell_type": "code",
            "execution_count": 5,
            "metadata": {},
            "outputs": [
                {
                    "name": "stdout",
                    "output_type": "stream",
                    "text": [
                        "                            OLS Regression Results                            \n",
                        "==============================================================================\n",
                        "Dep. Variable:                      y   R-squared:                       0.510\n",
                        "Model:                            OLS   Adj. R-squared:                  0.493\n",
                        "Method:                 Least Squares   F-statistic:                     29.63\n",
                        "Date:                Tue, 21 Nov 2023   Prob (F-statistic):           9.78e-39\n",
                        "Time:                        11:05:37   Log-Likelihood:                -1602.4\n",
                        "No. Observations:                 296   AIC:                             3227.\n",
                        "Df Residuals:                     285   BIC:                             3267.\n",
                        "Df Model:                          10                                         \n",
                        "Covariance Type:            nonrobust                                         \n",
                        "==============================================================================\n",
                        "                 coef    std err          t      P>|t|      [0.025      0.975]\n",
                        "------------------------------------------------------------------------------\n",
                        "const        150.4340      3.223     46.679      0.000     144.091     156.777\n",
                        "x1            32.1493     76.323      0.421      0.674    -118.079     182.377\n",
                        "x2          -242.8245     76.000     -3.195      0.002    -392.417     -93.232\n",
                        "x3           559.9900     84.196      6.651      0.000     394.265     725.715\n",
                        "x4           407.6377     79.210      5.146      0.000     251.726     563.549\n",
                        "x5          -718.6986    487.756     -1.473      0.142   -1678.759     241.362\n",
                        "x6           396.6370    391.639      1.013      0.312    -374.236    1167.510\n",
                        "x7            10.4324    250.612      0.042      0.967    -482.853     503.718\n",
                        "x8           171.8196    203.795      0.843      0.400    -229.314     572.954\n",
                        "x9           627.0799    210.126      2.984      0.003     213.484    1040.676\n",
                        "x10          -21.6231     83.642     -0.259      0.796    -186.257     143.011\n",
                        "==============================================================================\n",
                        "Omnibus:                        1.637   Durbin-Watson:                   1.738\n",
                        "Prob(Omnibus):                  0.441   Jarque-Bera (JB):                1.532\n",
                        "Skew:                           0.075   Prob(JB):                        0.465\n",
                        "Kurtosis:                       2.681   Cond. No.                         213.\n",
                        "==============================================================================\n",
                        "\n",
                        "Notes:\n",
                        "[1] Standard Errors assume that the covariance matrix of the errors is correctly specified.\n"
                    ]
                }
            ],
            "source": [
                "x_train_with_constant = statsmodels.api.add_constant(X_train)\n",
                "result = OLS(y_train, x_train_with_constant).fit().summary()\n",
                "\n",
                "print(result)\n",
                "\n",
                "# Notice that the R-squared is the same as above"
            ]
        },
        {
            "cell_type": "markdown",
            "metadata": {},
            "source": [
                "### Plot y and y_hat\n",
                "\n",
                "-   Let's also plot y and y_hat compared to one of the most important variables, BMI.\n",
                "    -   We'll see both y and y_hat resemble each other."
            ]
        },
        {
            "cell_type": "code",
            "execution_count": 6,
            "metadata": {},
            "outputs": [
                {
                    "data": {
                        "text/plain": [
                            "Text(0.5, 0, 'BMI')"
                        ]
                    },
                    "execution_count": 6,
                    "metadata": {},
                    "output_type": "execute_result"
                },
                {
                    "data": {
                        "image/png": "[encoded data removed]",
                        "text/plain": [
                            "<Figure size 640x480 with 1 Axes>"
                        ]
                    },
                    "metadata": {},
                    "output_type": "display_data"
                }
            ],
            "source": [
                "# Plot outputs (comparing 1 variable (BMI in column 3) to y and y_hat\n",
                "# plt.scatter() takes 2 numpy arrays.\n",
                "# The X[:, 3] notation gets all rows but only in column at index 3 (BMI)\n",
                "# And recall that y is \"a quantitative measure of disease progression one year after baseline\"\n",
                "\n",
                "# Plot the actual y values in black\n",
                "plt.scatter(X_train[:, 3], y_train, color=\"black\")\n",
                "\n",
                "# Plot the predicted y values in blue\n",
                "plt.scatter(X_train[:, 3], y_train_hat, color=\"blue\")\n",
                "\n",
                "# Add vertical axis label\n",
                "plt.ylabel('Disease progression')\n",
                "\n",
                "# Add horizontal axis label\n",
                "plt.xlabel('BMI')\n",
                "\n",
                "# DISCUSSION QUESTION: Why is BMI centered on 0? Isn't it like a value of 20-30?"
            ]
        },
        {
            "cell_type": "markdown",
            "metadata": {},
            "source": [
                "## Switch to LASSO\n",
                "\n",
                "Now that we've spent all this time setting up our python environment and getting sklearn, it's almost a trivial step in many cases to try out the latest-and-greatest model.\n",
                "\n",
                "### Create a LASSO model object\n",
                "\n",
                "-   Today's goal, however, is to do Lasso on this same dataset.\n",
                "    -   To start, lets create a Lasso object.\n",
                "    -   Notice that we are not setting the alpha/gamma value when we create it.\n",
                "-   STEP 1: Create the object"
            ]
        },
        {
            "cell_type": "code",
            "execution_count": 7,
            "metadata": {},
            "outputs": [
                {
                    "name": "stdout",
                    "output_type": "stream",
                    "text": [
                        "Lasso(max_iter=10000, random_state=0)\n"
                    ]
                }
            ],
            "source": [
                "# Create an empty Lasso object with a few initial parameters set\n",
                "model_lasso = Lasso(alpha=1.0, random_state=0, max_iter=10000) # Note, alpha is set by default to 1.0 so we could have omitted it here (though I kept it in to make it clear)\n",
                "print(model_lasso)"
            ]
        },
        {
            "cell_type": "markdown",
            "metadata": {},
            "source": [
                "### Fit the LASSO\n",
                "\n",
                "-   STEP 2: Call the lasso.fit() method.\n",
                "    -   The key think is to understand which X and y you are working with\n",
                "    -   We haven't split into training and testing YET, so it doesn't matter here"
            ]
        },
        {
            "cell_type": "code",
            "execution_count": 8,
            "metadata": {},
            "outputs": [
                {
                    "name": "stdout",
                    "output_type": "stream",
                    "text": [
                        "Lasso(max_iter=10000, random_state=0) : I might look the same but now i'm FIT!\n"
                    ]
                }
            ],
            "source": [
                "y_train_hat_lasso = model_lasso.fit(X_train, y_train)\n",
                "print(model_lasso, ': I might look the same but now i\\'m FIT!')"
            ]
        },
        {
            "cell_type": "markdown",
            "metadata": {},
            "source": [
                "### Predict with the LASSO\n",
                "\n",
                "-   STEP 3: Predict\n",
                "    -   Save the results to a new variable called y_hat_lasso\n",
                "        -   We will use this later"
            ]
        },
        {
            "cell_type": "code",
            "execution_count": 9,
            "metadata": {},
            "outputs": [
                {
                    "name": "stdout",
                    "output_type": "stream",
                    "text": [
                        "y_hat_lasso [140.96682887 184.45963875 151.38141417 142.5060501  164.0766917\n",
                        " 207.2411456  152.18258246 160.22710171 124.21229452 158.28966912\n",
                        " 149.12496793 133.08787638 134.21736573 156.5611931  143.21811498\n",
                        " 109.39498512 115.64275168 135.60151808 141.04716136 155.6476225\n",
                        " 170.50804739 110.77877038 127.91886973 137.93946488 148.79523371\n",
                        " 105.53749247 130.21546335 174.1131896  190.63846919 174.2309839\n",
                        " 186.64023467 192.93272357 193.5094217  147.69586048 146.89933608\n",
                        " 156.18872817 151.45629843 118.59895035 153.52475919 134.48818838\n",
                        " 112.78168684 179.26426367 173.6608597  166.2237288  104.65911294\n",
                        " 167.89405249 167.39220787 138.30802365 200.83677708 122.12207822\n",
                        " 196.8943563  163.25693129 168.3352627  159.04692729 138.12124162\n",
                        " 173.13128655 187.81680817 128.42575585 124.67879868 140.38415367\n",
                        " 182.96445145 111.4892178  193.85342288 170.02534386 161.90953412\n",
                        " 148.21584477 121.81930993 133.73868374 168.46985105 147.88932685\n",
                        " 169.44584389 145.43306108 120.4248471  144.61233498 141.52098391\n",
                        " 187.49523059 146.73591407 133.16640609 202.69414805 154.74223676\n",
                        " 170.82356389 192.79513669 172.07747227 169.03416853 160.0466165\n",
                        " 141.36154961 182.23037551 201.12235327 218.20665721 177.87651729\n",
                        " 142.83422412 137.04145033 186.77765763 161.58910485 179.05437588\n",
                        " 130.55764671 109.8273549  133.32792246 136.5537641   99.03794584\n",
                        " 171.59190404 132.04505617 165.2239487  206.51064219 168.24876991\n",
                        " 182.61165038 118.12255861 143.07965757 133.76021686 165.08916286\n",
                        " 138.53778185 159.96060566 153.78486924 145.8362204  154.48306074\n",
                        " 139.40032394 190.75316364 124.40506641 157.27126879 158.59303582\n",
                        " 145.76444605 147.49738937 100.41621257 159.68105661 130.99622958\n",
                        " 154.57484464 166.05265739 146.64628109 108.48467845 130.7163449\n",
                        " 131.47510387 150.1102228  139.23983977 158.98301496 130.76127986\n",
                        " 112.53900454 205.26129464 186.33392669 100.80736849 152.1913301\n",
                        " 114.15019516 174.14881688 125.51504619 176.03515376 183.01613633\n",
                        " 132.59781636 138.15487809 136.64283423 122.68695446 166.94951511\n",
                        " 113.47499432 173.17037216 132.94577106 120.87199736 159.53732939\n",
                        " 193.3546215  121.50746555 199.20643938 136.99763763 105.76497294\n",
                        " 129.57652377 163.15194988 146.81111527 201.62504096 127.74191133\n",
                        " 131.30793754 221.21551035 119.0493825  163.46951553 122.45145595\n",
                        " 158.17198368 115.20599028 115.38802145 146.8435717  128.04439316\n",
                        " 204.29255978 155.71199137 112.68867917 206.37473626 148.91355104\n",
                        " 120.71352376 185.91221082 170.7169947  134.84387865 186.35832044\n",
                        " 129.18686193 132.7756717  153.31904976 162.16092178 208.67492663\n",
                        " 130.45605096 181.4501275  117.17673514 171.81980684 150.44002588\n",
                        " 133.88437873 187.07613243 133.51633428 142.77867771 151.16079846\n",
                        " 215.733736   182.32716869 177.76288469 138.00876856 193.72404782\n",
                        " 151.3856575  163.53943178 180.55902043 154.82291957 167.73849741\n",
                        " 202.97540153 213.92030554 136.6302757  174.06541087 185.41271196\n",
                        " 196.74385748 133.38099793 116.69629084 196.48447464 128.5036338\n",
                        " 177.37515843 151.72462374 156.14305954 130.60448795 132.60485283\n",
                        " 143.14072114 115.08562244 145.72413114 162.96738381 163.59498363\n",
                        " 183.14429008 109.4676292  101.96383083 220.90455748 176.01489012\n",
                        " 152.10971578 143.34471432 147.30478891 150.15302154 142.48942694\n",
                        " 157.55644658 136.70146034 122.82819387 133.80510691 164.45408955\n",
                        " 108.95505421 175.07934037 144.03272868 162.32917935 144.60665543\n",
                        " 158.61020371 161.20008242 124.32940522 154.88668022 143.94885588\n",
                        " 145.10856782 155.23598469 119.10491422 136.3029754  110.42044914\n",
                        " 166.78185296 125.90368029 123.41225747 144.51412163 147.80267559\n",
                        " 171.69835194 128.70938576 187.05207322 112.9409752  176.71211147\n",
                        " 131.99173851 141.63086774 181.74701486 142.44074338 154.89331095\n",
                        " 128.05597086 118.17652884 156.42926817 203.20598266 147.27015082\n",
                        " 158.2463615  126.44023757 137.94450827 156.75904484 162.68010653\n",
                        " 128.19807835 163.48542372 113.49100429 121.63220107 152.86429783\n",
                        " 178.72737304 104.91198615 171.27839394 140.03620251 131.37825816\n",
                        " 161.00239286]\n"
                    ]
                }
            ],
            "source": [
                "y_train_hat_lasso = model_lasso.predict(X_train)\n",
                "print('y_hat_lasso', y_train_hat_lasso)"
            ]
        },
        {
            "cell_type": "markdown",
            "metadata": {},
            "source": [
                "### Plot it too to compare it with the OLS plot from above\n",
                "\n",
                "What do you see. Is this expected?"
            ]
        },
        {
            "cell_type": "code",
            "execution_count": 10,
            "metadata": {},
            "outputs": [
                {
                    "data": {
                        "image/png": "[encoded data removed]",
                        "text/plain": [
                            "<Figure size 640x480 with 1 Axes>"
                        ]
                    },
                    "metadata": {},
                    "output_type": "display_data"
                }
            ],
            "source": [
                "# Plot outputs\n",
                "plt.scatter(X_train[:, 3], y_train, color=\"black\")\n",
                "plt.scatter(X_train[:, 3], y_train_hat_lasso, color=\"blue\")\n",
                "\n",
                "plt.show()"
            ]
        },
        {
            "cell_type": "markdown",
            "metadata": {},
            "source": [
                "### Compare the actual coefficients created\n",
                "\n",
                "Class question: How are they different? And how are they similar?"
            ]
        },
        {
            "cell_type": "code",
            "execution_count": 11,
            "metadata": {},
            "outputs": [
                {
                    "name": "stdout",
                    "output_type": "stream",
                    "text": [
                        "[  0.          -0.         425.89571524  69.18564617   0.\n",
                        "   0.          -0.           0.         177.77602164   0.        ]\n",
                        "[  32.14928032 -242.82449076  559.98996952  407.63766881 -718.69857577\n",
                        "  396.63703933   10.432395    171.81955335  627.07993787  -21.62312454]\n"
                    ]
                }
            ],
            "source": [
                "print(model_lasso.coef_)\n",
                "print(model_ols.coef_)"
            ]
        },
        {
            "cell_type": "markdown",
            "metadata": {},
            "source": [
                "## Exercise 1\n",
                "\n",
                "Use a loop to identify the best value of alpha, as measured by r-squared.\n",
                "\n",
                "Write all of the alphas and associated r2 into a dictionary\n",
                "\n",
                "Discussion question for once you're done: what was the optimal alpha and why does this make sense? How does this compare to OLS? Why is it that way?"
            ]
        },
        {
            "cell_type": "code",
            "execution_count": 12,
            "metadata": {},
            "outputs": [
                {
                    "name": "stdout",
                    "output_type": "stream",
                    "text": [
                        "Alpha 1e-05 r2 0.5097545586312984\n",
                        "Alpha 1.4814590630121231e-05 r2 0.5097545550258284\n",
                        "Alpha 2.194720955380762e-05 r2 0.5097545471156378\n",
                        "Alpha 3.251389250131456e-05 r2 0.5097545297584842\n",
                        "Alpha 4.816800071987436e-05 r2 0.5097544916576326\n",
                        "Alpha 7.135892121363248e-05 r2 0.5097544080163654\n",
                        "Alpha 0.00010571532055870389 r2 0.5097542245101425\n",
                        "Alpha 0.0001566129197409237 r2 0.5097538216693466\n",
                        "Alpha 0.00023201562933498188 r2 0.5097529376097034\n",
                        "Alpha 0.00034372165683877067 r2 0.5097509978881833\n",
                        "Alpha 0.0005092095636773398 r2 0.5097502179536177\n",
                        "Alpha 0.0007543731230822445 r2 0.5097465191497694\n",
                        "Alpha 0.001117572900082952 r2 0.5097369145233267\n",
                        "Alpha 0.0016556385014046312 r2 0.5097158518651632\n",
                        "Alpha 0.002452760662977703 r2 0.509669630836878\n",
                        "Alpha 0.003633664513567942 r2 0.5095683199329282\n",
                        "Alpha 0.005383125225570771 r2 0.5093462639791546\n",
                        "Alpha 0.007974879652751007 r2 0.5088596929799118\n",
                        "Alpha 0.01181445773799895 r2 0.5077994072091762\n",
                        "Alpha 0.01750263549053227 r2 0.507560279935038\n",
                        "Alpha 0.02592943797404667 r2 0.5071474223785225\n",
                        "Alpha 0.03841340088546218 r2 0.5062412740337424\n",
                        "Alpha 0.056907880882885925 r2 0.5051124918800769\n",
                        "Alpha 0.0843066958907657 r2 0.5030778715420751\n",
                        "Alpha 0.124896918699982 r2 0.4987123968943079\n",
                        "Alpha 0.18502967215037666 r2 0.4894924957297825\n",
                        "Alpha 0.2741138847333373 r2 0.47582409231467004\n",
                        "Alpha 0.406088498835663 r2 0.45756798997493875\n",
                        "Alpha 0.6016034869850823 r2 0.4283204804799665\n",
                        "Alpha 0.8912509381337456 r2 0.3677443715021108\n",
                        "best_alpha 1e-05\n"
                    ]
                }
            ],
            "source": [
                "# Exercise 1 Code\n",
                "scores = {}\n",
                "alphas = np.logspace(-5, -0.05, 30)\n",
                "for alpha in alphas:\n",
                "    model_lasso = Lasso(alpha=alpha, random_state=0, max_iter=10000)\n",
                "    model_lasso.fit(X_train, y_train)\n",
                "    y_train_hat_lasso = model_lasso.predict(X_train)\n",
                "    r2 = r2_score(y_train, y_train_hat_lasso)\n",
                "    scores[alpha] = r2\n",
                "    print('Alpha', alpha, 'r2', r2)\n",
                "\n",
                "# Quick way to get the value from the highest-valued dictionary entry\n",
                "best_alpha = max(scores, key=scores.get)\n",
                "\n",
                "# print best_alpha with all the significant digits\n",
                "print('best_alpha', best_alpha)\n",
                "\n",
                "# This is not very pretty. There MUST be a better way to do this.\n",
                "# There is!"
            ]
        },
        {
            "cell_type": "markdown",
            "metadata": {},
            "source": [
                "## Operationalizing CV with GridSearch\n",
                "\n",
                "-   It seems a little weird to be automatically finding the best model.\n",
                "\n",
                "    -   If we were just applying this to the dataset a single time, this would indeed be p-hacking to the extreme.\n",
                "\n",
                "    -   However, showing its performance on UNSEEN data is quite the opposite of p-hacking.\n",
                "\n",
                "-   Scikit Learn lets us operationalize our method for finding the best model by using GridSearch.\n",
                "\n",
                "-   GridSEarch will search for the best set of \"hyperparameters\" we can find.\n",
                "\n",
                "    -   Here we only have 1 hyperparameter, alpha.\n",
                "\n",
                "        -   Our plan will be to split the training data into 5 folds, and then test each alpha on each fold, keeping track of which alpha performed best.\n",
                "\n",
                "            -   Why split into folds instead of just testing each alpha on one split of the training data?\n",
                "\n",
                "                -   We can eek-out much more training power by reusing the data lots of times in different splits.\n",
                "\n",
                "![](images/paste-1.png)\n",
                "\n",
                "### Setup the inputs for GridSearchCV\n",
                "\n",
                "-   Define a range of alphas we will test using numpy logspace:"
            ]
        },
        {
            "cell_type": "code",
            "execution_count": 13,
            "metadata": {},
            "outputs": [
                {
                    "name": "stdout",
                    "output_type": "stream",
                    "text": [
                        "[1.00000000e-06 1.54758735e-06 2.39502662e-06 3.70651291e-06\n",
                        " 5.73615251e-06 8.87719709e-06 1.37382380e-05 2.12611233e-05\n",
                        " 3.29034456e-05 5.09209564e-05 7.88046282e-05 1.21957046e-04\n",
                        " 1.88739182e-04 2.92090372e-04 4.52035366e-04 6.99564216e-04\n",
                        " 1.08263673e-03 1.67547492e-03 2.59294380e-03 4.01280703e-03\n",
                        " 6.21016942e-03 9.61077966e-03 1.48735211e-02 2.30180731e-02\n",
                        " 3.56224789e-02 5.51288979e-02 8.53167852e-02 1.32035178e-01\n",
                        " 2.04335972e-01 3.16227766e-01]\n"
                    ]
                }
            ],
            "source": [
                "alphas = np.logspace(-6, -0.5, 30)\n",
                "print(alphas)"
            ]
        },
        {
            "cell_type": "markdown",
            "metadata": {},
            "source": [
                "-   We are going to be passing this range of tuning parameters to a GridSearch\n",
                "\n",
                "    -   It .fit() function will test which alpha works best across all of the folds.\n",
                "\n",
                "-   First though, we have to put the alphas into the form the GridSearchCV function Expects, which is a list of dictionaries.\n",
                "\n",
                "    -   More complex models might have lots of different hyperparameters."
            ]
        },
        {
            "cell_type": "code",
            "execution_count": 14,
            "metadata": {},
            "outputs": [],
            "source": [
                "tuning_parameters = [{'alpha': alphas}]"
            ]
        },
        {
            "cell_type": "markdown",
            "metadata": {},
            "source": [
                "### Choose how many folds to use\n",
                "\n",
                "-   Recall that CV works by calculating the fit quality of different folds of the training data.\n",
                "\n",
                "    -   Here we will just use 5 folds. GridSearchCV will automatically implement the folding and testing logic."
            ]
        },
        {
            "cell_type": "code",
            "execution_count": 15,
            "metadata": {},
            "outputs": [],
            "source": [
                "n_folds = 5"
            ]
        },
        {
            "cell_type": "markdown",
            "metadata": {},
            "source": [
                "#### Create the lasso_cv object from the lasso object\n",
                "\n",
                "-   Finally, we have all our objects ready to pass to the GridSearchVC function\n",
                "\n",
                "    -   Create a new GridSearchCV object.\n",
                "\n",
                "        -   Notice that we are reusing model_lasso object we created above."
            ]
        },
        {
            "cell_type": "code",
            "execution_count": 16,
            "metadata": {},
            "outputs": [],
            "source": [
                "model_lasso_cv = GridSearchCV(model_lasso, tuning_parameters, cv=n_folds, refit=False)"
            ]
        },
        {
            "cell_type": "markdown",
            "metadata": {},
            "source": [
                "#### Fit the lasso_cv object\n",
                "\n",
                "When we call the model_lasso_cv.fit() method, we will iteratively be calling the Lasso.fit() with different permutations of tuned parameters and then will return the classifier with the best CV fit."
            ]
        },
        {
            "cell_type": "code",
            "execution_count": 17,
            "metadata": {},
            "outputs": [
                {
                    "data": {
                        "text/html": [
                            "<style>#sk-container-id-1 {color: black;background-color: white;}#sk-container-id-1 pre{padding: 0;}#sk-container-id-1 div.sk-toggleable {background-color: white;}#sk-container-id-1 label.sk-toggleable__label {cursor: pointer;display: block;width: 100%;margin-bottom: 0;padding: 0.3em;box-sizing: border-box;text-align: center;}#sk-container-id-1 label.sk-toggleable__label-arrow:before {content: \"▸\";float: left;margin-right: 0.25em;color: #696969;}#sk-container-id-1 label.sk-toggleable__label-arrow:hover:before {color: black;}#sk-container-id-1 div.sk-estimator:hover label.sk-toggleable__label-arrow:before {color: black;}#sk-container-id-1 div.sk-toggleable__content {max-height: 0;max-width: 0;overflow: hidden;text-align: left;background-color: #f0f8ff;}#sk-container-id-1 div.sk-toggleable__content pre {margin: 0.2em;color: black;border-radius: 0.25em;background-color: #f0f8ff;}#sk-container-id-1 input.sk-toggleable__control:checked~div.sk-toggleable__content {max-height: 200px;max-width: 100%;overflow: auto;}#sk-container-id-1 input.sk-toggleable__control:checked~label.sk-toggleable__label-arrow:before {content: \"▾\";}#sk-container-id-1 div.sk-estimator input.sk-toggleable__control:checked~label.sk-toggleable__label {background-color: #d4ebff;}#sk-container-id-1 div.sk-label input.sk-toggleable__control:checked~label.sk-toggleable__label {background-color: #d4ebff;}#sk-container-id-1 input.sk-hidden--visually {border: 0;clip: rect(1px 1px 1px 1px);clip: rect(1px, 1px, 1px, 1px);height: 1px;margin: -1px;overflow: hidden;padding: 0;position: absolute;width: 1px;}#sk-container-id-1 div.sk-estimator {font-family: monospace;background-color: #f0f8ff;border: 1px dotted black;border-radius: 0.25em;box-sizing: border-box;margin-bottom: 0.5em;}#sk-container-id-1 div.sk-estimator:hover {background-color: #d4ebff;}#sk-container-id-1 div.sk-parallel-item::after {content: \"\";width: 100%;border-bottom: 1px solid gray;flex-grow: 1;}#sk-container-id-1 div.sk-label:hover label.sk-toggleable__label {background-color: #d4ebff;}#sk-container-id-1 div.sk-serial::before {content: \"\";position: absolute;border-left: 1px solid gray;box-sizing: border-box;top: 0;bottom: 0;left: 50%;z-index: 0;}#sk-container-id-1 div.sk-serial {display: flex;flex-direction: column;align-items: center;background-color: white;padding-right: 0.2em;padding-left: 0.2em;position: relative;}#sk-container-id-1 div.sk-item {position: relative;z-index: 1;}#sk-container-id-1 div.sk-parallel {display: flex;align-items: stretch;justify-content: center;background-color: white;position: relative;}#sk-container-id-1 div.sk-item::before, #sk-container-id-1 div.sk-parallel-item::before {content: \"\";position: absolute;border-left: 1px solid gray;box-sizing: border-box;top: 0;bottom: 0;left: 50%;z-index: -1;}#sk-container-id-1 div.sk-parallel-item {display: flex;flex-direction: column;z-index: 1;position: relative;background-color: white;}#sk-container-id-1 div.sk-parallel-item:first-child::after {align-self: flex-end;width: 50%;}#sk-container-id-1 div.sk-parallel-item:last-child::after {align-self: flex-start;width: 50%;}#sk-container-id-1 div.sk-parallel-item:only-child::after {width: 0;}#sk-container-id-1 div.sk-dashed-wrapped {border: 1px dashed gray;margin: 0 0.4em 0.5em 0.4em;box-sizing: border-box;padding-bottom: 0.4em;background-color: white;}#sk-container-id-1 div.sk-label label {font-family: monospace;font-weight: bold;display: inline-block;line-height: 1.2em;}#sk-container-id-1 div.sk-label-container {text-align: center;}#sk-container-id-1 div.sk-container {/* jupyter's `normalize.less` sets `[hidden] { display: none; }` but bootstrap.min.css set `[hidden] { display: none !important; }` so we also need the `!important` here to be able to override the default hidden behavior on the sphinx rendered scikit-learn.org. See: https://github.com/scikit-learn/scikit-learn/issues/21755 */display: inline-block !important;position: relative;}#sk-container-id-1 div.sk-text-repr-fallback {display: none;}</style><div id=\"sk-container-id-1\" class=\"sk-top-container\"><div class=\"sk-text-repr-fallback\"><pre>GridSearchCV(cv=5,\n",
                            "             estimator=Lasso(alpha=0.8912509381337456, max_iter=10000,\n",
                            "                             random_state=0),\n",
                            "             param_grid=[{&#x27;alpha&#x27;: array([1.00000000e-06, 1.54758735e-06, 2.39502662e-06, 3.70651291e-06,\n",
                            "       5.73615251e-06, 8.87719709e-06, 1.37382380e-05, 2.12611233e-05,\n",
                            "       3.29034456e-05, 5.09209564e-05, 7.88046282e-05, 1.21957046e-04,\n",
                            "       1.88739182e-04, 2.92090372e-04, 4.52035366e-04, 6.99564216e-04,\n",
                            "       1.08263673e-03, 1.67547492e-03, 2.59294380e-03, 4.01280703e-03,\n",
                            "       6.21016942e-03, 9.61077966e-03, 1.48735211e-02, 2.30180731e-02,\n",
                            "       3.56224789e-02, 5.51288979e-02, 8.53167852e-02, 1.32035178e-01,\n",
                            "       2.04335972e-01, 3.16227766e-01])}],\n",
                            "             refit=False)</pre><b>In a Jupyter environment, please rerun this cell to show the HTML representation or trust the notebook. <br />On GitHub, the HTML representation is unable to render, please try loading this page with nbviewer.org.</b></div><div class=\"sk-container\" hidden><div class=\"sk-item sk-dashed-wrapped\"><div class=\"sk-label-container\"><div class=\"sk-label sk-toggleable\"><input class=\"sk-toggleable__control sk-hidden--visually\" id=\"sk-estimator-id-1\" type=\"checkbox\" ><label for=\"sk-estimator-id-1\" class=\"sk-toggleable__label sk-toggleable__label-arrow\">GridSearchCV</label><div class=\"sk-toggleable__content\"><pre>GridSearchCV(cv=5,\n",
                            "             estimator=Lasso(alpha=0.8912509381337456, max_iter=10000,\n",
                            "                             random_state=0),\n",
                            "             param_grid=[{&#x27;alpha&#x27;: array([1.00000000e-06, 1.54758735e-06, 2.39502662e-06, 3.70651291e-06,\n",
                            "       5.73615251e-06, 8.87719709e-06, 1.37382380e-05, 2.12611233e-05,\n",
                            "       3.29034456e-05, 5.09209564e-05, 7.88046282e-05, 1.21957046e-04,\n",
                            "       1.88739182e-04, 2.92090372e-04, 4.52035366e-04, 6.99564216e-04,\n",
                            "       1.08263673e-03, 1.67547492e-03, 2.59294380e-03, 4.01280703e-03,\n",
                            "       6.21016942e-03, 9.61077966e-03, 1.48735211e-02, 2.30180731e-02,\n",
                            "       3.56224789e-02, 5.51288979e-02, 8.53167852e-02, 1.32035178e-01,\n",
                            "       2.04335972e-01, 3.16227766e-01])}],\n",
                            "             refit=False)</pre></div></div></div><div class=\"sk-parallel\"><div class=\"sk-parallel-item\"><div class=\"sk-item\"><div class=\"sk-label-container\"><div class=\"sk-label sk-toggleable\"><input class=\"sk-toggleable__control sk-hidden--visually\" id=\"sk-estimator-id-2\" type=\"checkbox\" ><label for=\"sk-estimator-id-2\" class=\"sk-toggleable__label sk-toggleable__label-arrow\">estimator: Lasso</label><div class=\"sk-toggleable__content\"><pre>Lasso(alpha=0.8912509381337456, max_iter=10000, random_state=0)</pre></div></div></div><div class=\"sk-serial\"><div class=\"sk-item\"><div class=\"sk-estimator sk-toggleable\"><input class=\"sk-toggleable__control sk-hidden--visually\" id=\"sk-estimator-id-3\" type=\"checkbox\" ><label for=\"sk-estimator-id-3\" class=\"sk-toggleable__label sk-toggleable__label-arrow\">Lasso</label><div class=\"sk-toggleable__content\"><pre>Lasso(alpha=0.8912509381337456, max_iter=10000, random_state=0)</pre></div></div></div></div></div></div></div></div></div></div>"
                        ],
                        "text/plain": [
                            "GridSearchCV(cv=5,\n",
                            "             estimator=Lasso(alpha=0.8912509381337456, max_iter=10000,\n",
                            "                             random_state=0),\n",
                            "             param_grid=[{'alpha': array([1.00000000e-06, 1.54758735e-06, 2.39502662e-06, 3.70651291e-06,\n",
                            "       5.73615251e-06, 8.87719709e-06, 1.37382380e-05, 2.12611233e-05,\n",
                            "       3.29034456e-05, 5.09209564e-05, 7.88046282e-05, 1.21957046e-04,\n",
                            "       1.88739182e-04, 2.92090372e-04, 4.52035366e-04, 6.99564216e-04,\n",
                            "       1.08263673e-03, 1.67547492e-03, 2.59294380e-03, 4.01280703e-03,\n",
                            "       6.21016942e-03, 9.61077966e-03, 1.48735211e-02, 2.30180731e-02,\n",
                            "       3.56224789e-02, 5.51288979e-02, 8.53167852e-02, 1.32035178e-01,\n",
                            "       2.04335972e-01, 3.16227766e-01])}],\n",
                            "             refit=False)"
                        ]
                    },
                    "execution_count": 17,
                    "metadata": {},
                    "output_type": "execute_result"
                }
            ],
            "source": [
                "model_lasso_cv.fit(X_train, y_train)"
            ]
        },
        {
            "cell_type": "markdown",
            "metadata": {},
            "source": [
                "-   Although it was just one line, we just ran a BOATLOAD of Lasso regressions.\n",
                "\n",
                "-   The `model_lasso_cv` object now has a variety of diagnostic metrics, reporting back on different folds within the Cross Validation. Take a look at them below."
            ]
        },
        {
            "cell_type": "code",
            "execution_count": 18,
            "metadata": {},
            "outputs": [
                {
                    "name": "stdout",
                    "output_type": "stream",
                    "text": [
                        "model_lasso_cv keys returned: dict_keys(['mean_fit_time', 'std_fit_time', 'mean_score_time', 'std_score_time', 'param_alpha', 'params', 'split0_test_score', 'split1_test_score', 'split2_test_score', 'split3_test_score', 'split4_test_score', 'mean_test_score', 'std_test_score', 'rank_test_score'])\n"
                    ]
                }
            ],
            "source": [
                "print('model_lasso_cv keys returned:', model_lasso_cv.cv_results_.keys())"
            ]
        },
        {
            "cell_type": "markdown",
            "metadata": {},
            "source": [
                "### Extract results by score\n",
                "\n",
                "Some relevant results are as below, which we'll extract and assign to lists."
            ]
        },
        {
            "cell_type": "code",
            "execution_count": 19,
            "metadata": {},
            "outputs": [
                {
                    "name": "stdout",
                    "output_type": "stream",
                    "text": [
                        "scores [0.4519634  0.45196352 0.45196371 0.451964   0.45196446 0.45196515\n",
                        " 0.45196624 0.45196791 0.45197048 0.45197446 0.45198058 0.45198996\n",
                        " 0.45200427 0.45202593 0.45205828 0.45210554 0.45217195 0.45225864\n",
                        " 0.4523543  0.45225214 0.45186538 0.45133124 0.45135412 0.45225194\n",
                        " 0.45327032 0.45417588 0.45341964 0.45034518 0.44410909 0.43147344]\n",
                        "scores_std [0.11327806 0.11327787 0.11327757 0.1132771  0.11327638 0.11327526\n",
                        " 0.11327353 0.11327085 0.11326671 0.11326031 0.11325042 0.11323514\n",
                        " 0.11321157 0.11317528 0.11311953 0.11303428 0.11290482 0.11271031\n",
                        " 0.11242329 0.11203524 0.11146881 0.11078125 0.11065965 0.11042615\n",
                        " 0.11011996 0.10929459 0.10846076 0.10624549 0.1041817  0.09781666]\n"
                    ]
                }
            ],
            "source": [
                "scores = model_lasso_cv.cv_results_['mean_test_score']\n",
                "scores_std = model_lasso_cv.cv_results_['std_test_score']\n",
                "\n",
                "print('scores', scores)\n",
                "print('scores_std', scores_std)"
            ]
        },
        {
            "cell_type": "markdown",
            "metadata": {},
            "source": [
                "## Exercise 2:\n",
                "\n",
                "With your table, explore the scores and alphas lists we've created. Identify which alpha is the best, based on the MSE score returned. A challenge here is that sklearn gave us the scores as a list rather than a dictionary (as we built above), so you will need to use the list to create the dictionary.\n",
                "\n",
                "One way to consider doing this would be to create a for loop to iterate through a range(len(scores)): object, saving the alphas and scores to a new dictionary, as in the starter code below.\n",
                "\n",
                "Save the optimal alpha as a new variable called chosen_alpha."
            ]
        },
        {
            "cell_type": "code",
            "execution_count": 20,
            "metadata": {},
            "outputs": [
                {
                    "name": "stdout",
                    "output_type": "stream",
                    "text": [
                        "best_alpha 0.055128897887706724\n"
                    ]
                }
            ],
            "source": [
                "# Exercise 2 Code\n",
                "\n",
                "output_dict = {}\n",
                "for i in range(len(scores)):\n",
                "    output_dict[alphas[i]] = scores[i]\n",
                "    \n",
                "best_alpha = max(output_dict, key=output_dict.get)\n",
                "\n",
                "print('best_alpha', best_alpha)"
            ]
        },
        {
            "cell_type": "markdown",
            "metadata": {},
            "source": [
                "### Plot out the alphas and their scores"
            ]
        },
        {
            "cell_type": "code",
            "execution_count": 21,
            "metadata": {},
            "outputs": [
                {
                    "data": {
                        "text/plain": [
                            "<matplotlib.lines.Line2D at 0x1b17943a710>"
                        ]
                    },
                    "execution_count": 21,
                    "metadata": {},
                    "output_type": "execute_result"
                },
                {
                    "data": {
                        "image/png": "[encoded data removed]",
                        "text/plain": [
                            "<Figure size 800x600 with 1 Axes>"
                        ]
                    },
                    "metadata": {},
                    "output_type": "display_data"
                }
            ],
            "source": [
                "plt.figure().set_size_inches(8, 6)\n",
                "plt.semilogx(alphas, scores)\n",
                "# Also add an annotation vertical dotted line indicating the optimal alpha\n",
                "plt.axvline(best_alpha, linestyle='--', color='.5')"
            ]
        },
        {
            "cell_type": "markdown",
            "metadata": {},
            "source": [
                "### Use the built-in attributes to get the best alpha\n",
                "\n",
                "-   Fortunately, the authors provide a useful best_params\\_ attribute."
            ]
        },
        {
            "cell_type": "code",
            "execution_count": 22,
            "metadata": {},
            "outputs": [
                {
                    "name": "stdout",
                    "output_type": "stream",
                    "text": [
                        "best_parameters: {'alpha': 0.055128897887706724}\n"
                    ]
                }
            ],
            "source": [
                "print('best_parameters:', model_lasso_cv.best_params_)"
            ]
        },
        {
            "cell_type": "markdown",
            "metadata": {},
            "source": [
                "-   Extract the best alpha, which we will use later."
            ]
        },
        {
            "cell_type": "code",
            "execution_count": 23,
            "metadata": {},
            "outputs": [
                {
                    "name": "stdout",
                    "output_type": "stream",
                    "text": [
                        "chosen_alpha 0.055128897887706724\n"
                    ]
                }
            ],
            "source": [
                "chosen_alpha = model_lasso_cv.best_params_['alpha']\n",
                "print('chosen_alpha', chosen_alpha)"
            ]
        },
        {
            "cell_type": "markdown",
            "metadata": {},
            "source": [
                "### Rerun LASSO with the best alpha\n",
                "\n",
                "-   Now we can rerun a vanilla (no CV) version of Lasso with that specific alpha.\n",
                "\n",
                "    -   This will return, for instance, a `model_lasso_cv_2.coef_` list."
            ]
        },
        {
            "cell_type": "code",
            "execution_count": 24,
            "metadata": {},
            "outputs": [
                {
                    "name": "stdout",
                    "output_type": "stream",
                    "text": [
                        "coefficients [   3.32833354 -190.6812396   565.88225618  376.65614325 -115.53479856\n",
                        "   -0.         -258.7395582     0.          409.99906108    0.        ]\n"
                    ]
                }
            ],
            "source": [
                "model_lasso_cv_2 = Lasso(alpha=chosen_alpha, random_state=0, max_iter=10000).fit(X_train, y_train)\n",
                "\n",
                "print(\"coefficients\", model_lasso_cv_2.coef_)"
            ]
        },
        {
            "cell_type": "markdown",
            "metadata": {},
            "source": [
                "-   Simply looking at the coefficients tells us which are to be included. Question: How will we know just by looking?\n",
                "\n",
                "### Extract the feature names and column indices of the features that Lasso has selected."
            ]
        },
        {
            "cell_type": "code",
            "execution_count": 25,
            "metadata": {},
            "outputs": [
                {
                    "name": "stdout",
                    "output_type": "stream",
                    "text": [
                        "Coefficient age was 3.3283335444260156\n",
                        "Coefficient sex was -190.68123960346225\n",
                        "Coefficient bmi was 565.8822561762516\n",
                        "Coefficient bp was 376.65614325147214\n",
                        "Coefficient s1 was -115.53479856353223\n",
                        "Coefficient s2 was -0.0\n",
                        "Coefficient s3 was -258.739558196292\n",
                        "Coefficient s4 was 0.0\n",
                        "Coefficient s5 was 409.9990610793234\n",
                        "Coefficient s6 was 0.0\n"
                    ]
                }
            ],
            "source": [
                "selected_coefficient_labels = []\n",
                "selected_coefficient_indices = []\n",
                "for i in range(len(model_lasso_cv_2.coef_)):\n",
                "    print('Coefficient', feature_names[i], 'was', model_lasso_cv_2.coef_[i])\n",
                "    if abs(model_lasso_cv_2.coef_[i]) > 0:\n",
                "        selected_coefficient_labels.append(feature_names[i])\n",
                "        selected_coefficient_indices.append(i)"
            ]
        },
        {
            "cell_type": "markdown",
            "metadata": {},
            "source": [
                "This process led us to the following selected_coefficient_labels:"
            ]
        },
        {
            "cell_type": "code",
            "execution_count": 26,
            "metadata": {},
            "outputs": [
                {
                    "name": "stdout",
                    "output_type": "stream",
                    "text": [
                        "selected_coefficient_labels ['age', 'sex', 'bmi', 'bp', 's1', 's3', 's5']\n"
                    ]
                }
            ],
            "source": [
                "print('selected_coefficient_labels', selected_coefficient_labels)"
            ]
        },
        {
            "cell_type": "markdown",
            "metadata": {},
            "source": [
                "## Switch back to slides\n",
                "\n",
                "## Post-LASSO\n",
                "\n",
                "Finally, now that we have our selected labels, we can use them to select the numpy array columns that we want to use for a post-LASSO run."
            ]
        },
        {
            "cell_type": "code",
            "execution_count": 27,
            "metadata": {},
            "outputs": [
                {
                    "name": "stdout",
                    "output_type": "stream",
                    "text": [
                        "X_train_selected [[ 0.0090156  -0.04464164 -0.03099563 ...  0.00806271  0.00446045\n",
                        "   0.00943366]\n",
                        " [-0.00188202 -0.04464164  0.05415152 ...  0.07273249 -0.04340085\n",
                        "   0.08449153]\n",
                        " [ 0.0090156   0.05068012 -0.00512814 ...  0.06998059 -0.03971921\n",
                        "   0.03954249]\n",
                        " ...\n",
                        " [ 0.03081083 -0.04464164 -0.02021751 ... -0.00432087  0.0780932\n",
                        "  -0.01090325]\n",
                        " [-0.01277963 -0.04464164 -0.02345095 ... -0.01670444 -0.01762938\n",
                        "  -0.03845972]\n",
                        " [-0.09269548 -0.04464164  0.02828403 ...  0.03695772  0.05600338\n",
                        "  -0.00514219]]\n"
                    ]
                }
            ],
            "source": [
                "X_train_selected = X_train[:, selected_coefficient_indices]\n",
                "print('X_train_selected', X_train_selected)"
            ]
        },
        {
            "cell_type": "markdown",
            "metadata": {},
            "source": [
                "Plug this new x matrix into our statsmodels OLS function and print that out."
            ]
        },
        {
            "cell_type": "code",
            "execution_count": 28,
            "metadata": {},
            "outputs": [
                {
                    "name": "stdout",
                    "output_type": "stream",
                    "text": [
                        "r2_train_ols 0.5070679629129953\n"
                    ]
                }
            ],
            "source": [
                "# Create the model and fit it using scikit learn linear_model\n",
                "ols_model_selected = linear_model.LinearRegression()\n",
                "ols_model_selected.fit(X_train_selected, y_train)\n",
                "\n",
                "# Make predictions using the testing set\n",
                "y_train_hat = ols_model_selected.predict(X_train_selected)\n",
                "\n",
                "# report the r-sqr\n",
                "r2_train_ols = r2_score(y_train, y_train_hat)\n",
                "print('r2_train_ols', r2_train_ols)"
            ]
        }
    ],
    "metadata": [
        {
            "kernelspec": {
                "display_name": "Python 3 (ipykernel)",
                "language": "python",
                "name": "python3"
            }
        }
    ],
    "nbformat": 4,
    "nbformat_minor": 4
}
