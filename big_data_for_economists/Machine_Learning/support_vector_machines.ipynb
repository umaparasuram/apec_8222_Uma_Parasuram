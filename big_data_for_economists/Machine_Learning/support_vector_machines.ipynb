{
    "cells": [
        {
            "cell_type": "markdown",
            "metadata": {},
            "source": [
                "In this section, we will use what we learned about fitting models and apply it to a very useful machine-learning algorithm.\n",
                "\n",
                "First let's start with imports.\n"
            ]
        },
        {
            "cell_type": "code",
            "execution_count": 16,
            "metadata": {},
            "outputs": [],
            "source": [
                "import numpy as np\n",
                "import scipy\n",
                "import sklearn\n",
                "from sklearn import datasets\n",
                "import pandas as pd\n",
                "import os"
            ]
        },
        {
            "cell_type": "markdown",
            "metadata": {},
            "source": [
                "#### Load in some digit image data\n",
                "\n",
                "One of the canonical datasets in sklearn is a series of images of handwritten digits. We've imported the datasets above, but now lets load it."
            ]
        },
        {
            "cell_type": "code",
            "execution_count": 17,
            "metadata": {},
            "outputs": [
                {
                    "name": "stdout",
                    "output_type": "stream",
                    "text": [
                        "digits\n",
                        " {'data': array([[ 0.,  0.,  5., ...,  0.,  0.,  0.],\n",
                        "       [ 0.,  0.,  0., ..., 10.,  0.,  0.],\n",
                        "       [ 0.,  0.,  0., ..., 16.,  9.,  0.],\n",
                        "       ...,\n",
                        "       [ 0.,  0.,  1., ...,  6.,  0.,  0.],\n",
                        "       [ 0.,  0.,  2., ..., 12.,  0.,  0.],\n",
                        "       [ 0.,  0., 10., ..., 12.,  1.,  0.]]), 'target': array([0, 1, 2, ..., 8, 9, 8]), 'frame': None, 'feature_names': ['pixel_0_0', 'pixel_0_1', 'pixel_0_2', 'pixel_0_3', 'pixel_0_4', 'pixel_0_5', 'pixel_0_6', 'pixel_0_7', 'pixel_1_0', 'pixel_1_1', 'pixel_1_2', 'pixel_1_3', 'pixel_1_4', 'pixel_1_5', 'pixel_1_6', 'pixel_1_7', 'pixel_2_0', 'pixel_2_1', 'pixel_2_2', 'pixel_2_3', 'pixel_2_4', 'pixel_2_5', 'pixel_2_6', 'pixel_2_7', 'pixel_3_0', 'pixel_3_1', 'pixel_3_2', 'pixel_3_3', 'pixel_3_4', 'pixel_3_5', 'pixel_3_6', 'pixel_3_7', 'pixel_4_0', 'pixel_4_1', 'pixel_4_2', 'pixel_4_3', 'pixel_4_4', 'pixel_4_5', 'pixel_4_6', 'pixel_4_7', 'pixel_5_0', 'pixel_5_1', 'pixel_5_2', 'pixel_5_3', 'pixel_5_4', 'pixel_5_5', 'pixel_5_6', 'pixel_5_7', 'pixel_6_0', 'pixel_6_1', 'pixel_6_2', 'pixel_6_3', 'pixel_6_4', 'pixel_6_5', 'pixel_6_6', 'pixel_6_7', 'pixel_7_0', 'pixel_7_1', 'pixel_7_2', 'pixel_7_3', 'pixel_7_4', 'pixel_7_5', 'pixel_7_6', 'pixel_7_7'], 'target_names': array([0, 1, 2, 3, 4, 5, 6, 7, 8, 9]), 'images': array([[[ 0.,  0.,  5., ...,  1.,  0.,  0.],\n",
                        "        [ 0.,  0., 13., ..., 15.,  5.,  0.],\n",
                        "        [ 0.,  3., 15., ..., 11.,  8.,  0.],\n",
                        "        ...,\n",
                        "        [ 0.,  4., 11., ..., 12.,  7.,  0.],\n",
                        "        [ 0.,  2., 14., ..., 12.,  0.,  0.],\n",
                        "        [ 0.,  0.,  6., ...,  0.,  0.,  0.]],\n",
                        "\n",
                        "       [[ 0.,  0.,  0., ...,  5.,  0.,  0.],\n",
                        "        [ 0.,  0.,  0., ...,  9.,  0.,  0.],\n",
                        "        [ 0.,  0.,  3., ...,  6.,  0.,  0.],\n",
                        "        ...,\n",
                        "        [ 0.,  0.,  1., ...,  6.,  0.,  0.],\n",
                        "        [ 0.,  0.,  1., ...,  6.,  0.,  0.],\n",
                        "        [ 0.,  0.,  0., ..., 10.,  0.,  0.]],\n",
                        "\n",
                        "       [[ 0.,  0.,  0., ..., 12.,  0.,  0.],\n",
                        "        [ 0.,  0.,  3., ..., 14.,  0.,  0.],\n",
                        "        [ 0.,  0.,  8., ..., 16.,  0.,  0.],\n",
                        "        ...,\n",
                        "        [ 0.,  9., 16., ...,  0.,  0.,  0.],\n",
                        "        [ 0.,  3., 13., ..., 11.,  5.,  0.],\n",
                        "        [ 0.,  0.,  0., ..., 16.,  9.,  0.]],\n",
                        "\n",
                        "       ...,\n",
                        "\n",
                        "       [[ 0.,  0.,  1., ...,  1.,  0.,  0.],\n",
                        "        [ 0.,  0., 13., ...,  2.,  1.,  0.],\n",
                        "        [ 0.,  0., 16., ..., 16.,  5.,  0.],\n",
                        "        ...,\n",
                        "        [ 0.,  0., 16., ..., 15.,  0.,  0.],\n",
                        "        [ 0.,  0., 15., ..., 16.,  0.,  0.],\n",
                        "        [ 0.,  0.,  2., ...,  6.,  0.,  0.]],\n",
                        "\n",
                        "       [[ 0.,  0.,  2., ...,  0.,  0.,  0.],\n",
                        "        [ 0.,  0., 14., ..., 15.,  1.,  0.],\n",
                        "        [ 0.,  4., 16., ..., 16.,  7.,  0.],\n",
                        "        ...,\n",
                        "        [ 0.,  0.,  0., ..., 16.,  2.,  0.],\n",
                        "        [ 0.,  0.,  4., ..., 16.,  2.,  0.],\n",
                        "        [ 0.,  0.,  5., ..., 12.,  0.,  0.]],\n",
                        "\n",
                        "       [[ 0.,  0., 10., ...,  1.,  0.,  0.],\n",
                        "        [ 0.,  2., 16., ...,  1.,  0.,  0.],\n",
                        "        [ 0.,  0., 15., ..., 15.,  0.,  0.],\n",
                        "        ...,\n",
                        "        [ 0.,  4., 16., ..., 16.,  6.,  0.],\n",
                        "        [ 0.,  8., 16., ..., 16.,  8.,  0.],\n",
                        "        [ 0.,  1.,  8., ..., 12.,  1.,  0.]]]), 'DESCR': \".. _digits_dataset:\\n\\nOptical recognition of handwritten digits dataset\\n--------------------------------------------------\\n\\n**Data Set Characteristics:**\\n\\n    :Number of Instances: 1797\\n    :Number of Attributes: 64\\n    :Attribute Information: 8x8 image of integer pixels in the range 0..16.\\n    :Missing Attribute Values: None\\n    :Creator: E. Alpaydin (alpaydin '@' boun.edu.tr)\\n    :Date: July; 1998\\n\\nThis is a copy of the test set of the UCI ML hand-written digits datasets\\nhttps://archive.ics.uci.edu/ml/datasets/Optical+Recognition+of+Handwritten+Digits\\n\\nThe data set contains images of hand-written digits: 10 classes where\\neach class refers to a digit.\\n\\nPreprocessing programs made available by NIST were used to extract\\nnormalized bitmaps of handwritten digits from a preprinted form. From a\\ntotal of 43 people, 30 contributed to the training set and different 13\\nto the test set. 32x32 bitmaps are divided into nonoverlapping blocks of\\n4x4 and the number of on pixels are counted in each block. This generates\\nan input matrix of 8x8 where each element is an integer in the range\\n0..16. This reduces dimensionality and gives invariance to small\\ndistortions.\\n\\nFor info on NIST preprocessing routines, see M. D. Garris, J. L. Blue, G.\\nT. Candela, D. L. Dimmick, J. Geist, P. J. Grother, S. A. Janet, and C.\\nL. Wilson, NIST Form-Based Handprint Recognition System, NISTIR 5469,\\n1994.\\n\\n.. topic:: References\\n\\n  - C. Kaynak (1995) Methods of Combining Multiple Classifiers and Their\\n    Applications to Handwritten Digit Recognition, MSc Thesis, Institute of\\n    Graduate Studies in Science and Engineering, Bogazici University.\\n  - E. Alpaydin, C. Kaynak (1998) Cascading Classifiers, Kybernetika.\\n  - Ken Tang and Ponnuthurai N. Suganthan and Xi Yao and A. Kai Qin.\\n    Linear dimensionalityreduction using relevance weighted LDA. School of\\n    Electrical and Electronic Engineering Nanyang Technological University.\\n    2005.\\n  - Claudio Gentile. A New Approximate Maximal Margin Classification\\n    Algorithm. NIPS. 2000.\\n\"}\n"
                    ]
                }
            ],
            "source": [
                "digits = datasets.load_digits()\n",
                "\n",
                "# First, take a look at the raw python object:\n",
                "print('digits\\n', digits)"
            ]
        },
        {
            "cell_type": "markdown",
            "metadata": {},
            "source": [
                "Not super helpful unless you're very good at reading python dictionary notation. Fortunately, one of the entries in this dataset is a description. Let's read that."
            ]
        },
        {
            "cell_type": "code",
            "execution_count": 18,
            "metadata": {},
            "outputs": [
                {
                    "name": "stdout",
                    "output_type": "stream",
                    "text": [
                        "DESCR\n",
                        " .. _digits_dataset:\n",
                        "\n",
                        "Optical recognition of handwritten digits dataset\n",
                        "--------------------------------------------------\n",
                        "\n",
                        "**Data Set Characteristics:**\n",
                        "\n",
                        "    :Number of Instances: 1797\n",
                        "    :Number of Attributes: 64\n",
                        "    :Attribute Information: 8x8 image of integer pixels in the range 0..16.\n",
                        "    :Missing Attribute Values: None\n",
                        "    :Creator: E. Alpaydin (alpaydin '@' boun.edu.tr)\n",
                        "    :Date: July; 1998\n",
                        "\n",
                        "This is a copy of the test set of the UCI ML hand-written digits datasets\n",
                        "https://archive.ics.uci.edu/ml/datasets/Optical+Recognition+of+Handwritten+Digits\n",
                        "\n",
                        "The data set contains images of hand-written digits: 10 classes where\n",
                        "each class refers to a digit.\n",
                        "\n",
                        "Preprocessing programs made available by NIST were used to extract\n",
                        "normalized bitmaps of handwritten digits from a preprinted form. From a\n",
                        "total of 43 people, 30 contributed to the training set and different 13\n",
                        "to the test set. 32x32 bitmaps are divided into nonoverlapping blocks of\n",
                        "4x4 and the number of on pixels are counted in each block. This generates\n",
                        "an input matrix of 8x8 where each element is an integer in the range\n",
                        "0..16. This reduces dimensionality and gives invariance to small\n",
                        "distortions.\n",
                        "\n",
                        "For info on NIST preprocessing routines, see M. D. Garris, J. L. Blue, G.\n",
                        "T. Candela, D. L. Dimmick, J. Geist, P. J. Grother, S. A. Janet, and C.\n",
                        "L. Wilson, NIST Form-Based Handprint Recognition System, NISTIR 5469,\n",
                        "1994.\n",
                        "\n",
                        ".. topic:: References\n",
                        "\n",
                        "  - C. Kaynak (1995) Methods of Combining Multiple Classifiers and Their\n",
                        "    Applications to Handwritten Digit Recognition, MSc Thesis, Institute of\n",
                        "    Graduate Studies in Science and Engineering, Bogazici University.\n",
                        "  - E. Alpaydin, C. Kaynak (1998) Cascading Classifiers, Kybernetika.\n",
                        "  - Ken Tang and Ponnuthurai N. Suganthan and Xi Yao and A. Kai Qin.\n",
                        "    Linear dimensionalityreduction using relevance weighted LDA. School of\n",
                        "    Electrical and Electronic Engineering Nanyang Technological University.\n",
                        "    2005.\n",
                        "  - Claudio Gentile. A New Approximate Maximal Margin Classification\n",
                        "    Algorithm. NIPS. 2000.\n",
                        "\n"
                    ]
                }
            ],
            "source": [
                "print('DESCR\\n', digits['DESCR'])"
            ]
        },
        {
            "cell_type": "markdown",
            "metadata": {},
            "source": [
                "#### Extract one of the digits to inspect\n",
                "\n",
                "Now that we're oriented, also look at one particular image of a digit, just so you know what it actually looks like. Below, we print just the first (index = 0) numeral of the 5620 they provide."
            ]
        },
        {
            "cell_type": "code",
            "execution_count": 19,
            "metadata": {},
            "outputs": [
                {
                    "name": "stdout",
                    "output_type": "stream",
                    "text": [
                        "digits.images[0]\n",
                        " [[ 0.  0.  5. 13.  9.  1.  0.  0.]\n",
                        " [ 0.  0. 13. 15. 10. 15.  5.  0.]\n",
                        " [ 0.  3. 15.  2.  0. 11.  8.  0.]\n",
                        " [ 0.  4. 12.  0.  0.  8.  8.  0.]\n",
                        " [ 0.  5.  8.  0.  0.  9.  8.  0.]\n",
                        " [ 0.  4. 11.  0.  1. 12.  7.  0.]\n",
                        " [ 0.  2. 14.  5. 10. 12.  0.  0.]\n",
                        " [ 0.  0.  6. 13. 10.  0.  0.  0.]]\n"
                    ]
                }
            ],
            "source": [
                "print('digits.images[0]\\n', digits.images[0])"
            ]
        },
        {
            "cell_type": "code",
            "execution_count": 20,
            "metadata": {},
            "outputs": [
                {
                    "data": {
                        "image/png": "[encoded data removed]",
                        "text/plain": [
                            "<Figure size 640x480 with 1 Axes>"
                        ]
                    },
                    "metadata": {},
                    "output_type": "display_data"
                }
            ],
            "source": [
                "# If you squint, maybe you can tel what image it is, but let's plot it to be sure.\n",
                "import matplotlib\n",
                "from matplotlib import pyplot as plt\n",
                "plt.imshow(digits.images[0])\n",
                "plt.show()"
            ]
        },
        {
            "cell_type": "markdown",
            "metadata": {},
            "source": [
                "Notice also in the dataset that there is a 'targets' attribute in the dataset. This is the correct numeral that we are trying to make the model predict."
            ]
        },
        {
            "cell_type": "code",
            "execution_count": 21,
            "metadata": {},
            "outputs": [
                {
                    "name": "stdout",
                    "output_type": "stream",
                    "text": [
                        "target [0 1 2 ... 8 9 8]\n"
                    ]
                }
            ],
            "source": [
                "print('target', digits.target)"
            ]
        },
        {
            "cell_type": "markdown",
            "metadata": {},
            "source": [
                "Our task now is to train a model that inputs the digit images and predicts the digit numeral. For this, we're going to use SVM, as discussed in lecture.\n",
                "\n",
                "#### Import SVM and create a new (unfitted) model with it.\n",
                "\n",
                "For now, the parameters are going to be manually set (gamme) but we'll address how to choose them later. Here, I want to illustrate the basic approach used in sklearn to Load, train, fit and predict the model"
            ]
        },
        {
            "cell_type": "code",
            "execution_count": null,
            "metadata": {},
            "outputs": [],
            "source": [
                "from sklearn import svm\n",
                "\n",
                "# Create the model object\n",
                "classifier = svm.SVC(gamma=0.001)"
            ]
        },
        {
            "cell_type": "markdown",
            "metadata": {},
            "source": [
                "At this point, classifier is not yet \"trained\", ie. not yet fit to the model. All ML algorithms in SKLEARN have a .fit() method, which we will use here, passing it the images and the targets.\n",
                "\n",
                "Before we train it, we want to split the data into testing and training splits.\n",
                "\n",
                "Class question: Remind me WHY are we splitting it here? What is the bad thing that would happen if we just trained it on all of them?\n",
                "\n",
                "Before we can even split the data, however, we need to reshape it to be in the way the regression model expects.\n",
                "\n",
                "In particular, the SVM model needs a 1-dimensional, 64 element array. BUT, the input digits we saw were 2-dimensional, 8 by 8 arrays.\n",
                "\n",
                "This actually leads to a somewhat mind-blown example of how computers \"think\" differently than we do. We clearly think about a numeral in 2 dimensional space, but here we see that the computer doesn't are about the spatial relationship ship at all. It sees each individual pixel as it's own \"Feature\" to use the classification parlance. You could even reshuffle the order of those 64 digits and as long as you kept it consistent across the data, it would result in identical predictions.\n",
                "\n",
                "Later on, we will talk about machine learning techniques that leverage rather than ignore this 2 dimensional, spatial nature of the data.\n",
                "\n",
                "For now, let's just look at the data again. Rather than print it out, I really just want the shape\n",
                "so that i don't get inundated with text."
            ]
        },
        {
            "cell_type": "code",
            "execution_count": 22,
            "metadata": {},
            "outputs": [
                {
                    "name": "stdout",
                    "output_type": "stream",
                    "text": [
                        "digits.images shape (1797, 8, 8)\n"
                    ]
                }
            ],
            "source": [
                "print('digits.images shape', digits.images.shape)"
            ]
        },
        {
            "cell_type": "code",
            "execution_count": 23,
            "metadata": {},
            "outputs": [
                {
                    "name": "stdout",
                    "output_type": "stream",
                    "text": [
                        "n_samples 1797\n",
                        "n_features 64\n",
                        "data shape (1797, 64)\n"
                    ]
                }
            ],
            "source": [
                "n_samples = len(digits.images)\n",
                "n_features = digits.images[0].size\n",
                "\n",
                "print('n_samples', n_samples)\n",
                "print('n_features', n_features)\n",
                "\n",
                "data = digits.images.reshape((n_samples, n_features))\n",
                "\n",
                "# Now check the shame again to see that it's right.\n",
                "print('data shape', data.shape)"
            ]
        },
        {
            "cell_type": "code",
            "execution_count": 24,
            "metadata": {},
            "outputs": [
                {
                    "name": "stdout",
                    "output_type": "stream",
                    "text": [
                        "X_train [[ 0.  0.  5. ...  0.  0.  0.]\n",
                        " [ 0.  0.  0. ... 10.  0.  0.]\n",
                        " [ 0.  0.  0. ... 16.  9.  0.]\n",
                        " ...\n",
                        " [ 0.  0.  2. ... 14.  0.  0.]\n",
                        " [ 0.  1. 12. ...  0.  0.  0.]\n",
                        " [ 0.  0.  0. ...  3.  0.  0.]]\n",
                        "y_train [0 1 2 3 4 5 6 7 8 9 0 1 2 3 4 5 6 7 8 9 0 1 2 3 4 5 6 7 8 9 0 9 5 5 6 5 0\n",
                        " 9 8 9 8 4 1 7 7 3 5 1 0 0 2 2 7 8 2 0 1 2 6 3 3 7 3 3 4 6 6 6 4 9 1 5 0 9\n",
                        " 5 2 8 2 0 0 1 7 6 3 2 1 7 4 6 3 1 3 9 1 7 6 8 4 3 1 4 0 5 3 6 9 6 1 7 5 4\n",
                        " 4 7 2 8 2 2 5 7 9 5 4 8 8 4 9 0 8 9 8 0 1 2 3 4 5 6 7 8 9 0 1 2 3 4 5 6 7\n",
                        " 8 9 0 1 2 3 4 5 6 7 8 9 0 9 5 5 6 5 0 9 8 9 8 4 1 7 7 3 5 1 0 0 2 2 7 8 2\n",
                        " 0 1 2 6 3 3 7 3 3 4 6 6 6 4 9 1 5 0 9 5 2 8 2 0 0 1 7 6 3 2 1 7 3 1 3 9 1\n",
                        " 7 6 8 4 3 1 4 0 5 3 6 9 6 1 7 5 4 4 7 2 8 2 2 5 5 4 8 8 4 9 0 8 9 8 0 1 2\n",
                        " 3 4 5 6 7 8 9 0 1 2 3 4 5 6 7 8 9 0 1 2 3 4 5 6 7 8 9 0 9 5 5 6 5 0 9 8 9\n",
                        " 8 4 1 7 7 3 5 1 0 0 2 2 7 8 2 0 1 2 6 3 3 7 3 3 4 6 6 6 4 9 1 5 0 9 5 2 8\n",
                        " 2 0 0 1 7 6 3 2 1 7 4 6 3 1 3 9 1 7 6 8 4 3 1 4 0 5 3 6 9 6 1 7 5 4 4 7 2\n",
                        " 8 2 2 5 7 9 5 4 8 8 4 9 0 8 9 3 0 1 2 3 4 5 6 7 8 9 0 1 2 3 4 5 6 7 8 9 0\n",
                        " 1 2 3 4 5 6 7 8 9 0 9 5 5 6 5 0 9 8 9 8 4 1 7 7 3 5 1 0 0 2 2 7 8 2 0 1 2\n",
                        " 6 3 3 7 3 3 4 6 6 6 4 9 1 5 0 9 5 2 8 2 0 0 1 7 6 3 2 1 7 4 6 3 1 3 9 1 7\n",
                        " 6 8 4 3 1 4 0 5 3 6 9 6 1 7 5 4 4 7 2 8 2 2 5 7 9 5 4 8 8 4 9 0 8 9 8 0 1\n",
                        " 2 3 4 5 6 7 8 9 0 1 2 3 4 5 6 7 8 9 0 1 2 3 4 5 6 7 8 9 0 9 5 5 6 5 0 9 8\n",
                        " 9 8 4 1 7 7 3 5 1 0 0 2 2 7 8 2 0 1 2 6 3 3 7 3 3 4 6 6 6 4 9 1 5 0 9 5 2\n",
                        " 8 2 0 0 1 7 6 3 2 1 7 4 6 3 1 3 9 1 7 6 8 4 3 1 4 0 5 3 6 9 6 1 7 5 4 4 7\n",
                        " 2 8 2 2 5 7 9 5 4 8 8 4 9 0 8 9 8 0 1 2 3 4 5 6 7 8 9 0 1 2 3 4 5 6 7 8 9\n",
                        " 0 1 2 3 4 5 6 7 8 9 0 9 5 5 6 5 0 9 8 9 8 4 1 7 7 3 5 1 0 0 2 2 7 8 2 0 1\n",
                        " 2 6 3 3 7 3 3 4 6 6 6 4 9 1 5 0 9 5 2 8 2 0 0 1 7 6 3 2 1 7 4 6 3 1 3 9 1\n",
                        " 7 6 8 4 3 1 4 0 5 3 6 9 6 1 7 5 4 4 7 2 8 2 2 5 7 9 5 4 8 8 4 9 0 8 9 8 0\n",
                        " 1 2 3 4 5 6 7 8 9 0 1 2 3 4 5 6 7 8 9 0 1 2 3 4 5 6 7 8 9 0 9 5 5 6 5 0 9\n",
                        " 8 9 8 4 1 7 7 3 5 1 0 0 2 2 7 8 2 0 1 2 6 3 3 7 3 3 4 6 6 6 4 9 1 5 0 9 5\n",
                        " 2 8 2 0 0 1 7 6 3 2 1 7 4 6 3 1 3 9 1 7 6 8 4 3 1 4 0 5 3 6 9 6 1 7 5 4 4\n",
                        " 7 2 8 2 2 5 7 9 5 4]\n"
                    ]
                }
            ],
            "source": [
                "# Now that we've arranged our data in this shape, we can split it into training and testing sets\n",
                "from sklearn.model_selection import train_test_split\n",
                "\n",
                "X_train, X_test, y_train, y_test = train_test_split(data, digits.target, test_size=0.5, shuffle=False)\n",
                "\n",
                "print('X_train', X_train)\n",
                "print('y_train', y_train)"
            ]
        },
        {
            "cell_type": "markdown",
            "metadata": {},
            "source": [
                "#### Fit the  model\n",
                "\n",
                " Finally, now that we've split it, we can call the classifier's fit method which takes the TRAINING data as input."
            ]
        },
        {
            "cell_type": "code",
            "execution_count": 25,
            "metadata": {},
            "outputs": [
                {
                    "data": {
                        "text/html": [
                            "<style>#sk-container-id-2 {color: black;background-color: white;}#sk-container-id-2 pre{padding: 0;}#sk-container-id-2 div.sk-toggleable {background-color: white;}#sk-container-id-2 label.sk-toggleable__label {cursor: pointer;display: block;width: 100%;margin-bottom: 0;padding: 0.3em;box-sizing: border-box;text-align: center;}#sk-container-id-2 label.sk-toggleable__label-arrow:before {content: \"▸\";float: left;margin-right: 0.25em;color: #696969;}#sk-container-id-2 label.sk-toggleable__label-arrow:hover:before {color: black;}#sk-container-id-2 div.sk-estimator:hover label.sk-toggleable__label-arrow:before {color: black;}#sk-container-id-2 div.sk-toggleable__content {max-height: 0;max-width: 0;overflow: hidden;text-align: left;background-color: #f0f8ff;}#sk-container-id-2 div.sk-toggleable__content pre {margin: 0.2em;color: black;border-radius: 0.25em;background-color: #f0f8ff;}#sk-container-id-2 input.sk-toggleable__control:checked~div.sk-toggleable__content {max-height: 200px;max-width: 100%;overflow: auto;}#sk-container-id-2 input.sk-toggleable__control:checked~label.sk-toggleable__label-arrow:before {content: \"▾\";}#sk-container-id-2 div.sk-estimator input.sk-toggleable__control:checked~label.sk-toggleable__label {background-color: #d4ebff;}#sk-container-id-2 div.sk-label input.sk-toggleable__control:checked~label.sk-toggleable__label {background-color: #d4ebff;}#sk-container-id-2 input.sk-hidden--visually {border: 0;clip: rect(1px 1px 1px 1px);clip: rect(1px, 1px, 1px, 1px);height: 1px;margin: -1px;overflow: hidden;padding: 0;position: absolute;width: 1px;}#sk-container-id-2 div.sk-estimator {font-family: monospace;background-color: #f0f8ff;border: 1px dotted black;border-radius: 0.25em;box-sizing: border-box;margin-bottom: 0.5em;}#sk-container-id-2 div.sk-estimator:hover {background-color: #d4ebff;}#sk-container-id-2 div.sk-parallel-item::after {content: \"\";width: 100%;border-bottom: 1px solid gray;flex-grow: 1;}#sk-container-id-2 div.sk-label:hover label.sk-toggleable__label {background-color: #d4ebff;}#sk-container-id-2 div.sk-serial::before {content: \"\";position: absolute;border-left: 1px solid gray;box-sizing: border-box;top: 0;bottom: 0;left: 50%;z-index: 0;}#sk-container-id-2 div.sk-serial {display: flex;flex-direction: column;align-items: center;background-color: white;padding-right: 0.2em;padding-left: 0.2em;position: relative;}#sk-container-id-2 div.sk-item {position: relative;z-index: 1;}#sk-container-id-2 div.sk-parallel {display: flex;align-items: stretch;justify-content: center;background-color: white;position: relative;}#sk-container-id-2 div.sk-item::before, #sk-container-id-2 div.sk-parallel-item::before {content: \"\";position: absolute;border-left: 1px solid gray;box-sizing: border-box;top: 0;bottom: 0;left: 50%;z-index: -1;}#sk-container-id-2 div.sk-parallel-item {display: flex;flex-direction: column;z-index: 1;position: relative;background-color: white;}#sk-container-id-2 div.sk-parallel-item:first-child::after {align-self: flex-end;width: 50%;}#sk-container-id-2 div.sk-parallel-item:last-child::after {align-self: flex-start;width: 50%;}#sk-container-id-2 div.sk-parallel-item:only-child::after {width: 0;}#sk-container-id-2 div.sk-dashed-wrapped {border: 1px dashed gray;margin: 0 0.4em 0.5em 0.4em;box-sizing: border-box;padding-bottom: 0.4em;background-color: white;}#sk-container-id-2 div.sk-label label {font-family: monospace;font-weight: bold;display: inline-block;line-height: 1.2em;}#sk-container-id-2 div.sk-label-container {text-align: center;}#sk-container-id-2 div.sk-container {/* jupyter's `normalize.less` sets `[hidden] { display: none; }` but bootstrap.min.css set `[hidden] { display: none !important; }` so we also need the `!important` here to be able to override the default hidden behavior on the sphinx rendered scikit-learn.org. See: https://github.com/scikit-learn/scikit-learn/issues/21755 */display: inline-block !important;position: relative;}#sk-container-id-2 div.sk-text-repr-fallback {display: none;}</style><div id=\"sk-container-id-2\" class=\"sk-top-container\"><div class=\"sk-text-repr-fallback\"><pre>SVC(gamma=0.001)</pre><b>In a Jupyter environment, please rerun this cell to show the HTML representation or trust the notebook. <br />On GitHub, the HTML representation is unable to render, please try loading this page with nbviewer.org.</b></div><div class=\"sk-container\" hidden><div class=\"sk-item\"><div class=\"sk-estimator sk-toggleable\"><input class=\"sk-toggleable__control sk-hidden--visually\" id=\"sk-estimator-id-2\" type=\"checkbox\" checked><label for=\"sk-estimator-id-2\" class=\"sk-toggleable__label sk-toggleable__label-arrow\">SVC</label><div class=\"sk-toggleable__content\"><pre>SVC(gamma=0.001)</pre></div></div></div></div></div>"
                        ],
                        "text/plain": [
                            "SVC(gamma=0.001)"
                        ]
                    },
                    "execution_count": 25,
                    "metadata": {},
                    "output_type": "execute_result"
                }
            ],
            "source": [
                "classifier.fit(X_train, y_train)"
            ]
        },
        {
            "cell_type": "markdown",
            "metadata": {},
            "source": [
                "Now, our classifier object has it's internal parameters fit so that when we give it new input, it predicts what it thinks the correct classification is."
            ]
        },
        {
            "cell_type": "code",
            "execution_count": 26,
            "metadata": {},
            "outputs": [
                {
                    "name": "stdout",
                    "output_type": "stream",
                    "text": [
                        "predicted [8 8 4 9 0 8 9 8 1 2 3 4 5 6 7 8 9 0 1 2 3 4 5 6 7 8 9 0 1 2 3 4 9 6 7 8 9\n",
                        " 0 9 5 5 6 5 0 9 8 9 8 4 1 7 7 3 9 1 2 7 8 2 0 1 2 6 3 3 7 3 3 4 6 6 6 4 9\n",
                        " 1 5 0 9 5 2 8 2 0 0 1 7 6 3 2 1 4 6 3 1 3 9 1 7 6 8 4 3 1 4 0 5 3 6 9 6 1\n",
                        " 7 5 4 4 7 2 8 2 2 5 7 9 5 4 4 9 0 8 9 8 0 1 2 3 4 5 6 7 8 9 0 1 2 3 4 5 6\n",
                        " 7 8 9 0 1 2 3 4 5 6 7 8 9 0 9 5 5 6 5 0 9 8 9 8 4 1 7 7 3 5 1 0 0 7 8 2 0\n",
                        " 1 2 6 3 3 7 3 3 4 6 6 6 9 9 1 5 0 9 5 2 8 2 0 0 1 7 6 3 2 1 5 4 6 3 1 7 9\n",
                        " 1 7 6 8 4 3 1 4 0 5 3 6 9 6 1 7 5 4 4 7 2 8 2 2 5 7 9 5 4 8 8 4 9 0 8 9 8\n",
                        " 0 1 2 3 4 5 6 7 8 9 0 1 2 3 4 5 6 7 8 9 0 1 2 3 4 5 6 7 8 9 0 9 5 5 6 5 0\n",
                        " 9 8 9 8 4 1 7 7 3 5 1 0 0 2 2 7 8 2 0 1 2 6 3 3 7 3 3 4 6 6 6 4 9 1 5 0 9\n",
                        " 5 2 8 2 0 0 1 7 6 3 2 2 7 4 6 3 1 3 9 1 7 6 8 4 3 1 4 0 5 3 6 9 6 8 7 5 4\n",
                        " 4 7 2 8 2 2 5 7 9 5 4 8 8 4 9 0 8 9 8 0 9 2 3 4 5 6 7 8 9 0 1 2 3 4 5 6 7\n",
                        " 8 9 0 1 2 3 4 5 6 7 8 9 0 9 5 5 6 5 0 9 8 9 8 4 1 7 7 3 5 1 0 0 2 2 7 8 2\n",
                        " 0 1 2 6 3 3 7 3 3 4 6 6 6 4 9 1 5 0 9 6 2 8 3 0 0 1 7 6 3 2 1 7 4 6 3 1 3\n",
                        " 9 1 7 6 8 4 3 1 4 0 5 3 6 9 6 1 7 5 4 4 7 2 8 2 2 5 7 9 5 4 8 8 4 9 0 8 0\n",
                        " 1 2 3 4 5 6 7 8 9 0 1 2 3 4 5 6 7 8 9 0 1 2 3 4 5 6 7 8 9 0 9 5 5 6 5 0 9\n",
                        " 8 9 8 4 1 7 7 3 5 1 0 0 2 2 7 8 2 0 1 2 6 3 3 7 3 3 4 6 6 6 4 9 1 5 0 9 5\n",
                        " 2 8 2 0 0 1 7 6 3 2 1 7 4 6 3 1 3 9 1 7 6 8 4 3 1 4 0 5 3 6 9 6 1 7 5 4 4\n",
                        " 7 2 8 2 2 5 7 9 5 4 8 8 4 9 0 8 9 8 0 1 2 3 4 5 1 7 8 9 0 1 2 3 4 5 6 9 0\n",
                        " 1 2 3 4 5 6 7 8 9 4 9 5 5 6 5 0 9 8 9 8 4 1 7 7 3 5 1 0 0 2 2 7 8 2 0 1 2\n",
                        " 6 8 7 7 7 3 4 6 6 6 9 9 1 5 0 9 5 2 8 0 1 7 6 3 2 1 7 9 6 3 1 3 9 1 7 6 8\n",
                        " 4 3 1 4 0 5 3 6 9 6 1 7 5 4 4 7 2 2 5 7 3 5 9 4 5 0 8 9 8 0 1 2 3 4 5 6 7\n",
                        " 8 9 0 1 2 8 4 5 6 7 8 9 0 1 2 5 4 5 6 7 8 9 0 9 5 5 6 5 0 9 8 9 8 4 1 7 7\n",
                        " 7 5 1 0 0 2 2 7 8 2 0 1 2 6 8 8 7 5 8 4 6 6 6 4 9 1 5 0 9 5 2 8 2 0 0 1 7\n",
                        " 6 3 2 1 7 4 6 3 1 3 9 1 7 6 8 4 5 1 4 0 5 3 6 9 6 1 7 5 4 4 7 2 8 2 2 5 7\n",
                        " 9 5 4 8 8 4 9 0 8 9 8]\n"
                    ]
                }
            ],
            "source": [
                "predicted = classifier.predict(X_test)\n",
                "\n",
                "# Looking at the predicted won't be very intuitive, but you could glance.\n",
                "print('predicted', predicted)"
            ]
        },
        {
            "cell_type": "markdown",
            "metadata": {},
            "source": [
                "#### Plot some results\n",
                "\n",
                "Let's plot a few of them in nicer format. Don't worry about learning the plotting code but it's a useful example to show the power."
            ]
        },
        {
            "cell_type": "code",
            "execution_count": 27,
            "metadata": {},
            "outputs": [
                {
                    "data": {
                        "image/png": "[encoded data removed]",
                        "text/plain": [
                            "<Figure size 640x480 with 8 Axes>"
                        ]
                    },
                    "metadata": {},
                    "output_type": "display_data"
                }
            ],
            "source": [
                "_, axes = plt.subplots(2, 4)\n",
                "images_and_labels = list(zip(digits.images, digits.target))\n",
                "for ax, (image, label) in zip(axes[0, :], images_and_labels[:4]):\n",
                "    ax.set_axis_off()\n",
                "    ax.imshow(image, cmap=plt.cm.gray_r, interpolation='nearest')\n",
                "    ax.set_title('Training: %i' % label)\n",
                "\n",
                "images_and_predictions = list(zip(digits.images[n_samples // 2:], predicted))\n",
                "for ax, (image, prediction) in zip(axes[1, :], images_and_predictions[:4]):\n",
                "    ax.set_axis_off()\n",
                "    ax.imshow(image, cmap=plt.cm.gray_r, interpolation='nearest')\n",
                "    ax.set_title('Prediction: %i' % prediction)\n",
                "plt.show()"
            ]
        },
        {
            "cell_type": "code",
            "execution_count": 28,
            "metadata": {},
            "outputs": [
                {
                    "name": "stdout",
                    "output_type": "stream",
                    "text": [
                        "Classification report:\n",
                        "               precision    recall  f1-score   support\n",
                        "\n",
                        "           0       1.00      0.99      0.99        88\n",
                        "           1       0.99      0.97      0.98        91\n",
                        "           2       0.99      0.99      0.99        86\n",
                        "           3       0.98      0.87      0.92        91\n",
                        "           4       0.99      0.96      0.97        92\n",
                        "           5       0.95      0.97      0.96        91\n",
                        "           6       0.99      0.99      0.99        91\n",
                        "           7       0.96      0.99      0.97        89\n",
                        "           8       0.94      1.00      0.97        88\n",
                        "           9       0.93      0.98      0.95        92\n",
                        "\n",
                        "    accuracy                           0.97       899\n",
                        "   macro avg       0.97      0.97      0.97       899\n",
                        "weighted avg       0.97      0.97      0.97       899\n",
                        "\n"
                    ]
                }
            ],
            "source": [
                "from sklearn import metrics\n",
                "\n",
                "print(\"Classification report:\\n\", metrics.classification_report(y_test, predicted))"
            ]
        },
        {
            "cell_type": "markdown",
            "metadata": {},
            "source": [
                "#### Confusion matrix\n",
                "\n",
                "A more convenient way of looking at the results is t the confusion matrix. This is a built in metric for sklearn. It plots the predicted labels vs. the true labels."
            ]
        },
        {
            "cell_type": "code",
            "execution_count": 29,
            "metadata": {},
            "outputs": [
                {
                    "data": {
                        "text/plain": [
                            "<sklearn.metrics._plot.confusion_matrix.ConfusionMatrixDisplay at 0x1d51e524100>"
                        ]
                    },
                    "execution_count": 29,
                    "metadata": {},
                    "output_type": "execute_result"
                },
                {
                    "data": {
                        "image/png": "[encoded data removed]",
                        "text/plain": [
                            "<Figure size 640x480 with 2 Axes>"
                        ]
                    },
                    "metadata": {},
                    "output_type": "display_data"
                }
            ],
            "source": [
                "# Finally, plot the Confusion Matrix to see which digits were most often confused with each other.\n",
                "from sklearn.metrics import ConfusionMatrixDisplay\n",
                "ConfusionMatrixDisplay.from_predictions(y_test, predicted)"
            ]
        },
        {
            "cell_type": "markdown",
            "metadata": {},
            "source": [
                "**QUESTION:** Which digit was hardest to categorize and what was it most frequently confused as?\n"
            ]
        }
    ],
    "metadata": [
        {
            "kernelspec": {
                "display_name": "Python 3 (ipykernel)",
                "language": "python",
                "name": "python3"
            }
        }
    ],
    "nbformat": 4,
    "nbformat_minor": 4
}
