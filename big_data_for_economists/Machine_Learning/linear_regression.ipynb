{
    "cells": [
        {
            "cell_type": "markdown",
            "metadata": {},
            "source": [
                "# Linear Regression\n",
                "\n",
                "This notebook will introduce you to one of the most-used machine learning packages: sklearn. We will start easy with an example very familiar to us all: OLS.\n",
                "\n",
                "As always, start with our packages to import. The new one will be sklearn."
            ]
        },
        {
            "cell_type": "code",
            "execution_count": null,
            "metadata": {},
            "outputs": [],
            "source": [
                "# Import packages\n",
                "import matplotlib.pyplot as plt\n",
                "import numpy as np\n",
                "from sklearn import datasets, linear_model\n",
                "from sklearn.metrics import mean_squared_error, r2_score"
            ]
        },
        {
            "cell_type": "markdown",
            "metadata": {},
            "source": [
                "In the imports above, we imported sub-packages of the sklearn package. Rather than loading the whole sklearn library (which is huge), line 4 just imports datasets and linear_model.\n",
                "\n",
                "### Load a specific dataset\n",
                "\n",
                "Next, we will use the imported datasets object. It defines a useful function load_diabetes(). This will return a dataset object which contains the data and metadata."
            ]
        },
        {
            "cell_type": "code",
            "execution_count": null,
            "metadata": {},
            "outputs": [],
            "source": [
                "# Here we will load the diabetes dataset, which is a built-in dataset from sklearn.\n",
                "full_dataset = datasets.load_diabetes()\n",
                "print('full_dataset', full_dataset)"
            ]
        },
        {
            "cell_type": "markdown",
            "metadata": {},
            "source": [
                "### Inspect the dataset object to learn about it\n",
                "\n",
                "It's overwhelming and hard to read what is printed out, but let's dig into this notation because it's frequently used and will help us understand different Python datatypes.\n",
                "\n",
                "First, notice that the object starts with {, which means we can treat it like a python dicitonary. Dictionaries are standard ways of expressing key-value pairs. The standard notation for a dictionary is {key1: value1, key2: value2}\n",
                "\n",
                "Below, we will use a method from the full_dataset object that returns just the keys. This should be easier to parse."
            ]
        },
        {
            "cell_type": "code",
            "execution_count": null,
            "metadata": {},
            "outputs": [],
            "source": [
                "print('dictionary keys:', full_dataset.keys())"
            ]
        },
        {
            "cell_type": "markdown",
            "metadata": {},
            "source": [
                "If we want, we can access just one entry in the dictionary using the key. A useful one is the key DESCR.\n",
                "\n",
                "Print that out using the dictionary \\[\\] notation."
            ]
        },
        {
            "cell_type": "code",
            "execution_count": null,
            "metadata": {},
            "outputs": [],
            "source": [
                "print(full_dataset['DESCR'])"
            ]
        },
        {
            "cell_type": "markdown",
            "metadata": {},
            "source": [
                "### Access the data array\n",
                "\n",
                "Use the `'data'` key could also extract the data and assign it to a data_array variable for inspection. Let's also print out the `type` of the object to see what the data format is."
            ]
        },
        {
            "cell_type": "code",
            "execution_count": null,
            "metadata": {},
            "outputs": [],
            "source": [
                "data_array = full_dataset['data']\n",
                "print('data_array', data_array)\n",
                "print(type(data_array))"
            ]
        },
        {
            "cell_type": "markdown",
            "metadata": {},
            "source": [
                "It's a numpy array! That means we can use any of the numpy array functions on it.\n",
                "\n",
                "## Exercise 1:\n",
                "\n",
                "Print out the mean BMI in the dataset, the sum BMI, and the sum of the squared BMI values. Explain why the sum of the squared BMI is what it is. To do this, you will need to access the right parts of the data array and slice out the right column.\n",
                "\n",
                "HINT: You will need to read the DESCR to understand which column the BMI is stored in.\n",
                "\n",
                "HINT 2: To create a new variable with just the desired column of the array, you can use Array slicing notation like a = data_array\\[:, n\\] where the : means you want ALL rows, and the n means you want just column n.\n",
                "\n",
                "HINT 3: You may want to use data_array.sum(), data_array.mean(), and the \\*\\* exponent operator."
            ]
        },
        {
            "cell_type": "code",
            "execution_count": null,
            "metadata": {},
            "outputs": [],
            "source": [
                "bmi = data_array[:, 2]\n",
                "\n",
                "bmi_squared = bmi ** 2\n",
                "\n",
                "print('Sum: ', bmi.mean())\n",
                "print('Mean: ', bmi.mean())\n",
                "print('Sum of squared: ', bmi_squared.mean())"
            ]
        },
        {
            "cell_type": "code",
            "execution_count": null,
            "metadata": {},
            "outputs": [],
            "source": [
                "# For conveinence, sklearn also just has an option to get the key parts for the regression ready to use.\n",
                "diabetes_X, diabetes_y = datasets.load_diabetes(return_X_y=True)"
            ]
        },
        {
            "cell_type": "code",
            "execution_count": null,
            "metadata": {},
            "outputs": [],
            "source": [
                "# Look at diabetes_X and notice there are lots of independent variables. Rather than printing the whole\n",
                "# Array, which would be messy, just look at the .shape attribute.l\n",
                "# print('diabetes_X', diabetes_X)\n",
                "print('diabetes_X', diabetes_X.shape)"
            ]
        },
        {
            "cell_type": "markdown",
            "metadata": {},
            "source": [
                "For now, we're just going to use a single variable (a single column) for simplicity. The following line extracts just the second column from the array. The colon was necessary because we access arrays using the ROW, COLUMN notation, so we sliced out all ROWS (the colon indicates all) and the second COLUMN."
            ]
        },
        {
            "cell_type": "code",
            "execution_count": null,
            "metadata": {},
            "outputs": [],
            "source": [
                "diabetes_X = diabetes_X[:, 2]\n",
                "# diabetes_X = np.array([diabetes_X])\n",
                "# diabetes_X = diabetes_X[:, np.newaxis, 2]\n",
                "# print('diabetes_X', diabetes_X)\n",
                "print('diabetes_X', diabetes_X.shape)\n",
                "\n",
                "# diabetes_X = diabetes_X.reshape((:, 1))\n",
                "diabetes_X = diabetes_X.reshape((diabetes_X.shape[0], 1))\n",
                "\n",
                "# print('diabetes_X', diabetes_X)\n",
                "print('diabetes_X', diabetes_X.shape)"
            ]
        },
        {
            "cell_type": "markdown",
            "metadata": {},
            "source": [
                "### Split into training and testing arrays (the manual way)\n",
                "\n",
                "Next we are going to do a very rudimentary split of the data into training and testing sets using array slice notation. The following lines assigns the last all but the last 20 lines to the TRAIN set and the remaining 20 to the test set."
            ]
        },
        {
            "cell_type": "code",
            "execution_count": null,
            "metadata": {},
            "outputs": [],
            "source": [
                "diabetes_X_train = diabetes_X[:-20]\n",
                "diabetes_X_test = diabetes_X[-20:]\n",
                "diabetes_y_train = diabetes_y[:-20]\n",
                "diabetes_y_test = diabetes_y[-20:]"
            ]
        },
        {
            "cell_type": "markdown",
            "metadata": {},
            "source": [
                "**Create an empty LinearRegression object.**\n",
                "\n",
                "In the lines below, we will follow a relatively standardized process for running a model:\n",
                "\n",
                "1.  Create the model object.\n",
                "2.  Fit the model.\n",
                "3.  Predict with the model\n",
                "\n",
                "The basic notation for sklearn below first creates a regression model object using the `linear_model` that we imported above. This model is \"empty\" in the sense that it has no coefficients identified. Just like othertimes we've encountered objects (like numpy array objects), this object has many functions (called methods) and attributes which can be accessed by the dot operator."
            ]
        },
        {
            "cell_type": "code",
            "execution_count": null,
            "metadata": {},
            "outputs": [],
            "source": [
                "regression_object = linear_model.LinearRegression()\n",
                "print('regression_object', regression_object)"
            ]
        },
        {
            "cell_type": "markdown",
            "metadata": {},
            "source": [
                "#### Use the fit method\n",
                "\n",
                "Use the fit method from our regression object. It takes two inputs, the independent variables (X) and dependent variables (y).\n",
                "\n",
                "Below, we will ONLY use the training subset of the data we created above."
            ]
        },
        {
            "cell_type": "code",
            "execution_count": null,
            "metadata": {},
            "outputs": [],
            "source": [
                "regression_object.fit(diabetes_X_train, diabetes_y_train)\n",
                "print(regression_object)"
            ]
        },
        {
            "cell_type": "markdown",
            "metadata": {},
            "source": [
                "#### Use the fitted model to predict values\n",
                "\n",
                "Now the regression_object is \"trained,\" which means we can also call it's predict() method which will take some other observations and (in the case of OLS), multiple the new observations against our trained coefficients to make a prediciton.\n",
                "\n",
                "The predict method returned an array of numerical predictions, which we will look at."
            ]
        },
        {
            "cell_type": "code",
            "execution_count": null,
            "metadata": {},
            "outputs": [],
            "source": [
                "diabetes_y_pred = regression_object.predict(diabetes_X_test)\n",
                "print(diabetes_y_pred)"
            ]
        },
        {
            "cell_type": "markdown",
            "metadata": {},
            "source": [
                "#### Look at the coefficients\n",
                "\n",
                "More interesting might be to look at the coefficients. Once the model has been fit, it has a new attribute .coef\\_ which stores an array of coefficients. In this case it will only be an array of length 1 because we just have one input."
            ]
        },
        {
            "cell_type": "code",
            "execution_count": null,
            "metadata": {},
            "outputs": [],
            "source": [
                "print('Coefficients: \\n', regression_object.coef_)"
            ]
        },
        {
            "cell_type": "markdown",
            "metadata": {},
            "source": [
                "You might be wondering why we are looking at the coefficients as a raw array rather than at a nicely formatted regression table. The reason is in cross-validation approaches, these coefficients might just be one step towards the final model performance check on unseen data.\n",
                "\n",
                "#### Evaluating the fit\n",
                "\n",
                "We can use sklearn's built in evaluation functions, such as for the mean squared error or other metrics."
            ]
        },
        {
            "cell_type": "code",
            "execution_count": null,
            "metadata": {},
            "outputs": [],
            "source": [
                "mse = mean_squared_error(diabetes_y_test, diabetes_y_pred)\n",
                "print('Mean squared error on the TEST data:',  mse)"
            ]
        },
        {
            "cell_type": "code",
            "execution_count": null,
            "metadata": {},
            "outputs": [],
            "source": [
                "# Or perhaps we want the r2 for the second independent variable (which is the only one we used)\n",
                "r2_score_value = r2_score(diabetes_y_test, diabetes_y_pred)\n",
                "print('r2 calculated on TEST data: ', r2_score_value)"
            ]
        },
        {
            "cell_type": "code",
            "execution_count": null,
            "metadata": {},
            "outputs": [],
            "source": [
                "# Finally, to prove to ourselves that we know what we are doing, let's plot this.\n",
                "plt.scatter(diabetes_X_test, diabetes_y_test,  color='black')\n",
                "plt.plot(diabetes_X_test, diabetes_y_pred, color='blue', linewidth=3)\n",
                "\n",
                "plt.show()"
            ]
        },
        {
            "cell_type": "markdown",
            "metadata": {},
            "source": [
                "## Exercise 2.1: Machine Learning OLS Mashup.\n",
                "\n",
                "Use loops to find which TWO variables best describe the data, as measured by R-squared. This is a hilariously brute-force approach to OLS model selection, but it is similar in some senses to Machine Learning and will be relevant to the cross-validation approaches we discuss next."
            ]
        },
        {
            "cell_type": "code",
            "execution_count": null,
            "metadata": {},
            "outputs": [],
            "source": [
                "# Exercise 2.1 workspace and starter code\n",
                "\n",
                "\n",
                "full_dataset = datasets.load_diabetes() # Load the full dataset\n",
                "diabetes_X, diabetes_y = datasets.load_diabetes(return_X_y=True) # Get just the data arrays\n",
                "\n",
                "# Split into training and testing\n",
                "diabetes_X_train = diabetes_X[:-20]\n",
                "diabetes_X_test = diabetes_X[-20:]\n",
                "diabetes_y_train = diabetes_y[:-20]\n",
                "diabetes_y_test = diabetes_y[-20:]\n",
                "\n",
                "highest_score = 0\n",
                "for i in range(len(full_dataset['feature_names'])):\n",
                "    for j in range(len(full_dataset['feature_names'])):\n",
                "        \n",
                "        diabetes_current_X_train = diabetes_X_train[:, [i, j]]\n",
                "        diabetes_current_X_test = diabetes_X_test[:, [i, j]]\n",
                "\n",
                "        # MISSING STUFF HERE.       \n",
                "        \n",
                "        if r2_score_value > highest_score:\n",
                "            highest_score = r2_score_value\n",
                "            best_option = [i, j, r2_score_value]\n",
                "        \n",
                "print('best_option', best_option)\n"
            ]
        },
        {
            "cell_type": "markdown",
            "metadata": {},
            "source": [
                "## Just for completeness, let's look at this the way an econometritian would\n",
                "\n",
                "Sklearn doesn't report summary statistics in the classic, econometric sense because it focuses on the train, test paradigm, which is not equivilent to a model performance report (which in the classic case is only reporting performance of the TRAINING data).\n",
                "\n",
                "Nonetheless, Here's how I do it, using an alternative, more econometrics-focused package. You will need to conda install statsmodel if you want to uncomment this line and have it work. Note that because we're not splitting our data into training and testing, the r-squareds are not really comparable."
            ]
        },
        {
            "cell_type": "code",
            "execution_count": null,
            "metadata": {},
            "outputs": [],
            "source": [
                "import statsmodels\n",
                "from statsmodels.api import OLS\n",
                "\n",
                "data_with_constant = statsmodels.api.add_constant(full_dataset.data)\n",
                "result = OLS(full_dataset.target, data_with_constant).fit().summary()\n",
                "print(result)"
            ]
        }
    ],
    "metadata": [
        {
            "kernelspec": {
                "display_name": "Python 3 (ipykernel)",
                "language": "python",
                "name": "python3"
            }
        }
    ],
    "nbformat": 4,
    "nbformat_minor": 4
}
